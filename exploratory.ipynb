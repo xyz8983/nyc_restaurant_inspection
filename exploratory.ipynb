{
 "cells": [
  {
   "cell_type": "code",
   "execution_count": 14,
   "metadata": {
    "collapsed": true
   },
   "outputs": [],
   "source": [
    "import numpy as np\n",
    "import pandas as pd\n",
    "import matplotlib.pyplot as plt\n",
    "import seaborn as sns\n",
    "import nltk\n",
    "import datetime\n",
    "# from nltk.tokenize import word_tokenize\n",
    "from nltk import word_tokenize\n",
    "from nltk.corpus import stopwords\n",
    "from string import punctuation"
   ]
  },
  {
   "cell_type": "code",
   "execution_count": 2,
   "metadata": {
    "scrolled": true
   },
   "outputs": [
    {
     "data": {
      "text/html": [
       "<div>\n",
       "<table border=\"1\" class=\"dataframe\">\n",
       "  <thead>\n",
       "    <tr style=\"text-align: right;\">\n",
       "      <th></th>\n",
       "      <th>CAMIS</th>\n",
       "      <th>DBA</th>\n",
       "      <th>BORO</th>\n",
       "      <th>BUILDING</th>\n",
       "      <th>STREET</th>\n",
       "      <th>ZIPCODE</th>\n",
       "      <th>PHONE</th>\n",
       "      <th>CUISINE DESCRIPTION</th>\n",
       "      <th>INSPECTION DATE</th>\n",
       "      <th>ACTION</th>\n",
       "      <th>VIOLATION CODE</th>\n",
       "      <th>VIOLATION DESCRIPTION</th>\n",
       "      <th>CRITICAL FLAG</th>\n",
       "      <th>SCORE</th>\n",
       "      <th>GRADE</th>\n",
       "      <th>GRADE DATE</th>\n",
       "      <th>RECORD DATE</th>\n",
       "      <th>INSPECTION TYPE</th>\n",
       "    </tr>\n",
       "  </thead>\n",
       "  <tbody>\n",
       "    <tr>\n",
       "      <th>0</th>\n",
       "      <td>41474212</td>\n",
       "      <td>86 BEST BAKERY</td>\n",
       "      <td>BROOKLYN</td>\n",
       "      <td>1957</td>\n",
       "      <td>86 STREET</td>\n",
       "      <td>11214.0</td>\n",
       "      <td>7189961310</td>\n",
       "      <td>Bakery</td>\n",
       "      <td>02/16/2018</td>\n",
       "      <td>Violations were cited in the following area(s).</td>\n",
       "      <td>08A</td>\n",
       "      <td>Facility not vermin proof. Harborage or condit...</td>\n",
       "      <td>Not Critical</td>\n",
       "      <td>39.0</td>\n",
       "      <td>NaN</td>\n",
       "      <td>NaN</td>\n",
       "      <td>06/28/2018</td>\n",
       "      <td>Cycle Inspection / Initial Inspection</td>\n",
       "    </tr>\n",
       "    <tr>\n",
       "      <th>1</th>\n",
       "      <td>50059903</td>\n",
       "      <td>CHINA TASTE</td>\n",
       "      <td>MANHATTAN</td>\n",
       "      <td>1570</td>\n",
       "      <td>2ND AVE</td>\n",
       "      <td>10028.0</td>\n",
       "      <td>2126500189</td>\n",
       "      <td>Chinese</td>\n",
       "      <td>02/07/2018</td>\n",
       "      <td>Establishment re-opened by DOHMH</td>\n",
       "      <td>10F</td>\n",
       "      <td>Non-food contact surface improperly constructe...</td>\n",
       "      <td>Not Critical</td>\n",
       "      <td>3.0</td>\n",
       "      <td>P</td>\n",
       "      <td>02/07/2018</td>\n",
       "      <td>06/28/2018</td>\n",
       "      <td>Cycle Inspection / Reopening Inspection</td>\n",
       "    </tr>\n",
       "    <tr>\n",
       "      <th>2</th>\n",
       "      <td>50018601</td>\n",
       "      <td>BELLA PIZZA &amp; RESTAURANT</td>\n",
       "      <td>BROOKLYN</td>\n",
       "      <td>208</td>\n",
       "      <td>LIVINGSTON ST</td>\n",
       "      <td>11201.0</td>\n",
       "      <td>7185224100</td>\n",
       "      <td>Pizza</td>\n",
       "      <td>09/10/2015</td>\n",
       "      <td>Violations were cited in the following area(s).</td>\n",
       "      <td>10F</td>\n",
       "      <td>Non-food contact surface improperly constructe...</td>\n",
       "      <td>Not Critical</td>\n",
       "      <td>10.0</td>\n",
       "      <td>A</td>\n",
       "      <td>09/10/2015</td>\n",
       "      <td>06/28/2018</td>\n",
       "      <td>Cycle Inspection / Initial Inspection</td>\n",
       "    </tr>\n",
       "    <tr>\n",
       "      <th>3</th>\n",
       "      <td>40576044</td>\n",
       "      <td>CIPRIANI DOWNTOWN RESTAURANT</td>\n",
       "      <td>MANHATTAN</td>\n",
       "      <td>376</td>\n",
       "      <td>WEST BROADWAY</td>\n",
       "      <td>10012.0</td>\n",
       "      <td>2123430999</td>\n",
       "      <td>Italian</td>\n",
       "      <td>05/02/2018</td>\n",
       "      <td>Establishment Closed by DOHMH.  Violations wer...</td>\n",
       "      <td>05A</td>\n",
       "      <td>Sewage disposal system improper or unapproved.</td>\n",
       "      <td>Critical</td>\n",
       "      <td>81.0</td>\n",
       "      <td>NaN</td>\n",
       "      <td>NaN</td>\n",
       "      <td>06/28/2018</td>\n",
       "      <td>Cycle Inspection / Initial Inspection</td>\n",
       "    </tr>\n",
       "    <tr>\n",
       "      <th>4</th>\n",
       "      <td>50063777</td>\n",
       "      <td>EL GALLO TAQUERIA</td>\n",
       "      <td>BROOKLYN</td>\n",
       "      <td>214</td>\n",
       "      <td>HIGHLAWN AVE</td>\n",
       "      <td>11223.0</td>\n",
       "      <td>9176682332</td>\n",
       "      <td>Mexican</td>\n",
       "      <td>02/14/2018</td>\n",
       "      <td>Violations were cited in the following area(s).</td>\n",
       "      <td>10F</td>\n",
       "      <td>Non-food contact surface improperly constructe...</td>\n",
       "      <td>Not Critical</td>\n",
       "      <td>7.0</td>\n",
       "      <td>A</td>\n",
       "      <td>02/14/2018</td>\n",
       "      <td>06/28/2018</td>\n",
       "      <td>Cycle Inspection / Re-inspection</td>\n",
       "    </tr>\n",
       "  </tbody>\n",
       "</table>\n",
       "</div>"
      ],
      "text/plain": [
       "      CAMIS                           DBA       BORO BUILDING         STREET  \\\n",
       "0  41474212                86 BEST BAKERY   BROOKLYN     1957      86 STREET   \n",
       "1  50059903                   CHINA TASTE  MANHATTAN     1570        2ND AVE   \n",
       "2  50018601      BELLA PIZZA & RESTAURANT   BROOKLYN      208  LIVINGSTON ST   \n",
       "3  40576044  CIPRIANI DOWNTOWN RESTAURANT  MANHATTAN      376  WEST BROADWAY   \n",
       "4  50063777             EL GALLO TAQUERIA   BROOKLYN      214   HIGHLAWN AVE   \n",
       "\n",
       "   ZIPCODE       PHONE CUISINE DESCRIPTION INSPECTION DATE  \\\n",
       "0  11214.0  7189961310              Bakery      02/16/2018   \n",
       "1  10028.0  2126500189             Chinese      02/07/2018   \n",
       "2  11201.0  7185224100               Pizza      09/10/2015   \n",
       "3  10012.0  2123430999             Italian      05/02/2018   \n",
       "4  11223.0  9176682332             Mexican      02/14/2018   \n",
       "\n",
       "                                              ACTION VIOLATION CODE  \\\n",
       "0    Violations were cited in the following area(s).            08A   \n",
       "1                   Establishment re-opened by DOHMH            10F   \n",
       "2    Violations were cited in the following area(s).            10F   \n",
       "3  Establishment Closed by DOHMH.  Violations wer...            05A   \n",
       "4    Violations were cited in the following area(s).            10F   \n",
       "\n",
       "                               VIOLATION DESCRIPTION CRITICAL FLAG  SCORE  \\\n",
       "0  Facility not vermin proof. Harborage or condit...  Not Critical   39.0   \n",
       "1  Non-food contact surface improperly constructe...  Not Critical    3.0   \n",
       "2  Non-food contact surface improperly constructe...  Not Critical   10.0   \n",
       "3     Sewage disposal system improper or unapproved.      Critical   81.0   \n",
       "4  Non-food contact surface improperly constructe...  Not Critical    7.0   \n",
       "\n",
       "  GRADE  GRADE DATE RECORD DATE                          INSPECTION TYPE  \n",
       "0   NaN         NaN  06/28/2018    Cycle Inspection / Initial Inspection  \n",
       "1     P  02/07/2018  06/28/2018  Cycle Inspection / Reopening Inspection  \n",
       "2     A  09/10/2015  06/28/2018    Cycle Inspection / Initial Inspection  \n",
       "3   NaN         NaN  06/28/2018    Cycle Inspection / Initial Inspection  \n",
       "4     A  02/14/2018  06/28/2018         Cycle Inspection / Re-inspection  "
      ]
     },
     "execution_count": 2,
     "metadata": {},
     "output_type": "execute_result"
    }
   ],
   "source": [
    "df = pd.read_csv(\"./data/NYC_Restaurant_Inspection_Results.csv\")\n",
    "df.head()"
   ]
  },
  {
   "cell_type": "code",
   "execution_count": 9,
   "metadata": {},
   "outputs": [
    {
     "data": {
      "text/html": [
       "<div>\n",
       "<table border=\"1\" class=\"dataframe\">\n",
       "  <thead>\n",
       "    <tr style=\"text-align: right;\">\n",
       "      <th></th>\n",
       "      <th>CAMIS</th>\n",
       "      <th>DBA</th>\n",
       "      <th>BORO</th>\n",
       "      <th>BUILDING</th>\n",
       "      <th>STREET</th>\n",
       "      <th>ZIPCODE</th>\n",
       "      <th>PHONE</th>\n",
       "      <th>CUISINE DESCRIPTION</th>\n",
       "      <th>INSPECTION DATE</th>\n",
       "      <th>ACTION</th>\n",
       "      <th>VIOLATION CODE</th>\n",
       "      <th>VIOLATION DESCRIPTION</th>\n",
       "      <th>CRITICAL FLAG</th>\n",
       "      <th>SCORE</th>\n",
       "      <th>GRADE</th>\n",
       "      <th>GRADE DATE</th>\n",
       "      <th>RECORD DATE</th>\n",
       "      <th>INSPECTION TYPE</th>\n",
       "    </tr>\n",
       "  </thead>\n",
       "  <tbody>\n",
       "    <tr>\n",
       "      <th>0</th>\n",
       "      <td>41474212</td>\n",
       "      <td>86 BEST BAKERY</td>\n",
       "      <td>BROOKLYN</td>\n",
       "      <td>1957</td>\n",
       "      <td>86 STREET</td>\n",
       "      <td>11214.0</td>\n",
       "      <td>7189961310</td>\n",
       "      <td>Bakery</td>\n",
       "      <td>02/16/2018</td>\n",
       "      <td>Violations were cited in the following area(s).</td>\n",
       "      <td>08A</td>\n",
       "      <td>Facility not vermin proof. Harborage or condit...</td>\n",
       "      <td>Not Critical</td>\n",
       "      <td>39.0</td>\n",
       "      <td>NaN</td>\n",
       "      <td>NaN</td>\n",
       "      <td>06/28/2018</td>\n",
       "      <td>Cycle Inspection / Initial Inspection</td>\n",
       "    </tr>\n",
       "    <tr>\n",
       "      <th>10</th>\n",
       "      <td>40594026</td>\n",
       "      <td>VINCENTS BAGEL</td>\n",
       "      <td>STATEN ISLAND</td>\n",
       "      <td>500</td>\n",
       "      <td>HENDERSON AVENUE</td>\n",
       "      <td>10310.0</td>\n",
       "      <td>7187207335</td>\n",
       "      <td>Delicatessen</td>\n",
       "      <td>05/14/2018</td>\n",
       "      <td>Violations were cited in the following area(s).</td>\n",
       "      <td>08A</td>\n",
       "      <td>Facility not vermin proof. Harborage or condit...</td>\n",
       "      <td>Not Critical</td>\n",
       "      <td>23.0</td>\n",
       "      <td>Z</td>\n",
       "      <td>05/14/2018</td>\n",
       "      <td>06/28/2018</td>\n",
       "      <td>Cycle Inspection / Re-inspection</td>\n",
       "    </tr>\n",
       "    <tr>\n",
       "      <th>27</th>\n",
       "      <td>41463456</td>\n",
       "      <td>DUNKIN' DONUTS</td>\n",
       "      <td>STATEN ISLAND</td>\n",
       "      <td>2425</td>\n",
       "      <td>HYLAN BOULEVARD</td>\n",
       "      <td>10306.0</td>\n",
       "      <td>7183514967</td>\n",
       "      <td>Donuts</td>\n",
       "      <td>01/14/2016</td>\n",
       "      <td>Violations were cited in the following area(s).</td>\n",
       "      <td>08A</td>\n",
       "      <td>Facility not vermin proof. Harborage or condit...</td>\n",
       "      <td>Not Critical</td>\n",
       "      <td>12.0</td>\n",
       "      <td>A</td>\n",
       "      <td>01/14/2016</td>\n",
       "      <td>06/28/2018</td>\n",
       "      <td>Cycle Inspection / Initial Inspection</td>\n",
       "    </tr>\n",
       "    <tr>\n",
       "      <th>42</th>\n",
       "      <td>41647741</td>\n",
       "      <td>THE STANDARD EAST VILLAGE</td>\n",
       "      <td>MANHATTAN</td>\n",
       "      <td>25</td>\n",
       "      <td>COOPER SQUARE</td>\n",
       "      <td>10003.0</td>\n",
       "      <td>2124755700</td>\n",
       "      <td>American</td>\n",
       "      <td>12/19/2016</td>\n",
       "      <td>Violations were cited in the following area(s).</td>\n",
       "      <td>08A</td>\n",
       "      <td>Facility not vermin proof. Harborage or condit...</td>\n",
       "      <td>Not Critical</td>\n",
       "      <td>75.0</td>\n",
       "      <td>NaN</td>\n",
       "      <td>NaN</td>\n",
       "      <td>06/28/2018</td>\n",
       "      <td>Cycle Inspection / Initial Inspection</td>\n",
       "    </tr>\n",
       "    <tr>\n",
       "      <th>45</th>\n",
       "      <td>50070170</td>\n",
       "      <td>SHABU SHABU MACORON</td>\n",
       "      <td>MANHATTAN</td>\n",
       "      <td>61</td>\n",
       "      <td>DELANCEY ST</td>\n",
       "      <td>10002.0</td>\n",
       "      <td>2129255220</td>\n",
       "      <td>Japanese</td>\n",
       "      <td>06/14/2018</td>\n",
       "      <td>Violations were cited in the following area(s).</td>\n",
       "      <td>08A</td>\n",
       "      <td>Facility not vermin proof. Harborage or condit...</td>\n",
       "      <td>Not Critical</td>\n",
       "      <td>19.0</td>\n",
       "      <td>Not Yet Graded</td>\n",
       "      <td>NaN</td>\n",
       "      <td>06/28/2018</td>\n",
       "      <td>Cycle Inspection / Initial Inspection</td>\n",
       "    </tr>\n",
       "  </tbody>\n",
       "</table>\n",
       "</div>"
      ],
      "text/plain": [
       "       CAMIS                        DBA           BORO BUILDING  \\\n",
       "0   41474212             86 BEST BAKERY       BROOKLYN     1957   \n",
       "10  40594026             VINCENTS BAGEL  STATEN ISLAND      500   \n",
       "27  41463456             DUNKIN' DONUTS  STATEN ISLAND     2425   \n",
       "42  41647741  THE STANDARD EAST VILLAGE      MANHATTAN       25   \n",
       "45  50070170        SHABU SHABU MACORON      MANHATTAN       61   \n",
       "\n",
       "              STREET  ZIPCODE       PHONE CUISINE DESCRIPTION INSPECTION DATE  \\\n",
       "0          86 STREET  11214.0  7189961310              Bakery      02/16/2018   \n",
       "10  HENDERSON AVENUE  10310.0  7187207335        Delicatessen      05/14/2018   \n",
       "27   HYLAN BOULEVARD  10306.0  7183514967              Donuts      01/14/2016   \n",
       "42     COOPER SQUARE  10003.0  2124755700            American      12/19/2016   \n",
       "45       DELANCEY ST  10002.0  2129255220            Japanese      06/14/2018   \n",
       "\n",
       "                                             ACTION VIOLATION CODE  \\\n",
       "0   Violations were cited in the following area(s).            08A   \n",
       "10  Violations were cited in the following area(s).            08A   \n",
       "27  Violations were cited in the following area(s).            08A   \n",
       "42  Violations were cited in the following area(s).            08A   \n",
       "45  Violations were cited in the following area(s).            08A   \n",
       "\n",
       "                                VIOLATION DESCRIPTION CRITICAL FLAG  SCORE  \\\n",
       "0   Facility not vermin proof. Harborage or condit...  Not Critical   39.0   \n",
       "10  Facility not vermin proof. Harborage or condit...  Not Critical   23.0   \n",
       "27  Facility not vermin proof. Harborage or condit...  Not Critical   12.0   \n",
       "42  Facility not vermin proof. Harborage or condit...  Not Critical   75.0   \n",
       "45  Facility not vermin proof. Harborage or condit...  Not Critical   19.0   \n",
       "\n",
       "             GRADE  GRADE DATE RECORD DATE  \\\n",
       "0              NaN         NaN  06/28/2018   \n",
       "10               Z  05/14/2018  06/28/2018   \n",
       "27               A  01/14/2016  06/28/2018   \n",
       "42             NaN         NaN  06/28/2018   \n",
       "45  Not Yet Graded         NaN  06/28/2018   \n",
       "\n",
       "                          INSPECTION TYPE  \n",
       "0   Cycle Inspection / Initial Inspection  \n",
       "10       Cycle Inspection / Re-inspection  \n",
       "27  Cycle Inspection / Initial Inspection  \n",
       "42  Cycle Inspection / Initial Inspection  \n",
       "45  Cycle Inspection / Initial Inspection  "
      ]
     },
     "execution_count": 9,
     "metadata": {},
     "output_type": "execute_result"
    }
   ],
   "source": [
    "df[df['VIOLATION CODE'] =='08A'].head()"
   ]
  },
  {
   "cell_type": "code",
   "execution_count": 3,
   "metadata": {},
   "outputs": [
    {
     "data": {
      "text/plain": [
       "20759"
      ]
     },
     "execution_count": 3,
     "metadata": {},
     "output_type": "execute_result"
    }
   ],
   "source": [
    "len(df.DBA.unique())"
   ]
  },
  {
   "cell_type": "code",
   "execution_count": 4,
   "metadata": {},
   "outputs": [
    {
     "name": "stdout",
     "output_type": "stream",
     "text": [
      "different claim id 26502\n",
      "(371855, 18)\n"
     ]
    }
   ],
   "source": [
    "print('different claim id',len(df.CAMIS.unique()))\n",
    "print(df.shape)    ## some row share smae camis"
   ]
  },
  {
   "cell_type": "code",
   "execution_count": 5,
   "metadata": {},
   "outputs": [
    {
     "data": {
      "text/plain": [
       "array(['BROOKLYN', 'MANHATTAN', 'QUEENS', 'STATEN ISLAND', 'BRONX',\n",
       "       'Missing'], dtype=object)"
      ]
     },
     "execution_count": 5,
     "metadata": {},
     "output_type": "execute_result"
    }
   ],
   "source": [
    "df.BORO.unique()"
   ]
  },
  {
   "cell_type": "code",
   "execution_count": 10,
   "metadata": {},
   "outputs": [
    {
     "data": {
      "text/plain": [
       "array([nan, 'P', 'A', 'Z', 'B', 'Not Yet Graded', 'C'], dtype=object)"
      ]
     },
     "execution_count": 10,
     "metadata": {},
     "output_type": "execute_result"
    }
   ],
   "source": [
    "df.GRADE.unique()"
   ]
  },
  {
   "cell_type": "code",
   "execution_count": 11,
   "metadata": {},
   "outputs": [
    {
     "data": {
      "text/plain": [
       "3696"
      ]
     },
     "execution_count": 11,
     "metadata": {},
     "output_type": "execute_result"
    }
   ],
   "source": [
    "len(df[df.GRADE=='Z'])"
   ]
  },
  {
   "cell_type": "code",
   "execution_count": null,
   "metadata": {
    "collapsed": true
   },
   "outputs": [],
   "source": [
    "## query to filter"
   ]
  },
  {
   "cell_type": "code",
   "execution_count": 47,
   "metadata": {},
   "outputs": [
    {
     "data": {
      "text/plain": [
       "SCORE  GRADE\n",
       "-1.0   A            1\n",
       " 0.0   A          730\n",
       " 2.0   A         3559\n",
       " 3.0   A         1733\n",
       " 4.0   A         3729\n",
       " 5.0   A         5052\n",
       " 6.0   A         2548\n",
       " 7.0   A        13180\n",
       " 8.0   A         6477\n",
       " 9.0   A        17140\n",
       " 10.0  A        18885\n",
       " 11.0  A        17544\n",
       " 12.0  A        33064\n",
       " 13.0  A        23936\n",
       " 14.0  A            3\n",
       " 15.0  A            2\n",
       " 16.0  A            4\n",
       " 17.0  A           10\n",
       " 18.0  A            2\n",
       " 19.0  A            6\n",
       " 20.0  A            1\n",
       " 21.0  A            5\n",
       " 22.0  A            2\n",
       " 26.0  A            2\n",
       " 27.0  A            8\n",
       " 32.0  A            2\n",
       " 35.0  A            3\n",
       "Name: SCORE, dtype: int64"
      ]
     },
     "execution_count": 47,
     "metadata": {},
     "output_type": "execute_result"
    }
   ],
   "source": [
    "df.query(\"GRADE == 'A'\")[['SCORE','GRADE']].dropna(subset=['GRADE']).sort_values(by=['SCORE'],ascending=True).groupby(['SCORE','GRADE'])['SCORE'].count()"
   ]
  },
  {
   "cell_type": "code",
   "execution_count": 23,
   "metadata": {},
   "outputs": [
    {
     "name": "stdout",
     "output_type": "stream",
     "text": [
      "False\n"
     ]
    }
   ],
   "source": [
    "print(not True)"
   ]
  },
  {
   "cell_type": "code",
   "execution_count": 6,
   "metadata": {},
   "outputs": [
    {
     "name": "stdout",
     "output_type": "stream",
     "text": [
      "25132\n",
      "2\n"
     ]
    }
   ],
   "source": [
    "## phone number may be a good indicator for a restaurant\n",
    "## because the dataset contains inspecitions record through severeal years. one restaurant can have >1 record \n",
    "print(len(df.PHONE.unique()))  \n",
    "print(df.PHONE.isnull().sum())"
   ]
  },
  {
   "cell_type": "code",
   "execution_count": 5,
   "metadata": {},
   "outputs": [
    {
     "name": "stdout",
     "output_type": "stream",
     "text": [
      "num of phone appear multipile times 23884\n",
      "[('7185958100', 195), ('7186566210', 181), ('__________', 167), ('2124656273', 151), ('9176186310', 143), ('7182153308', 140), ('9172843260', 114), ('2125867610', 110), ('2126159700', 93), ('2122441111', 90)]\n",
      "unique 25132\n"
     ]
    }
   ],
   "source": [
    "import collections\n",
    "a = collections.Counter(df.PHONE)\n",
    "b=[]\n",
    "for key, cnt in a.items():\n",
    "    if cnt > 1:\n",
    "        b.append(key)\n",
    "print('num of phone appear multipile times',len(b))\n",
    "print(a.most_common(10))\n",
    "print('unique', len(df.PHONE.unique()))\n",
    "## some chain restaurant with same phone number"
   ]
  },
  {
   "cell_type": "code",
   "execution_count": 37,
   "metadata": {},
   "outputs": [
    {
     "data": {
      "text/plain": [
       "datetime.datetime(2018, 5, 23, 0, 0)"
      ]
     },
     "execution_count": 37,
     "metadata": {},
     "output_type": "execute_result"
    }
   ],
   "source": [
    "datetime.datetime.strptime('05/23/2018', \"%m/%d/%Y\")"
   ]
  },
  {
   "cell_type": "code",
   "execution_count": 6,
   "metadata": {
    "collapsed": true
   },
   "outputs": [],
   "source": [
    "col_a = pd.to_datetime(df['INSPECTION DATE'])"
   ]
  },
  {
   "cell_type": "code",
   "execution_count": 7,
   "metadata": {},
   "outputs": [
    {
     "data": {
      "text/plain": [
       "0   2015-05-12\n",
       "1   2015-11-18\n",
       "Name: INSPECTION DATE, dtype: datetime64[ns]"
      ]
     },
     "execution_count": 7,
     "metadata": {},
     "output_type": "execute_result"
    }
   ],
   "source": [
    "col_a[:2]"
   ]
  },
  {
   "cell_type": "code",
   "execution_count": 8,
   "metadata": {},
   "outputs": [
    {
     "data": {
      "text/plain": [
       "array(['02G', '04N', '08A', '06F', '06D', '06C', '04K', '06E', '02B',\n",
       "       '10I', '15F', nan, '09C', '04J', '22F', '10B', '04L', '04M', '10F',\n",
       "       '15L', '04C', '02H', '16A', '20D', '02A', '04A', '10E', '20F',\n",
       "       '10H', '22C', '04H', '05H', '06A', '09B', '05D', '22A', '08C',\n",
       "       '03B', '03A', '05E', '16C', '06B', '05C', '10J', '04O', '16E',\n",
       "       '03E', '09A', '16B', '15A', '10D', '10A', '22B', '18F', '05A',\n",
       "       '04F', '22G', '02C', '20A', '16D', '02F', '15I', '10C', '15J',\n",
       "       '05F', '08B', '02I', '06G', '04E', '22E', '04D', '10G', '15K',\n",
       "       '03C', '15S', '04B', '07A', '03G', '15E', '02D', '20E', '06H',\n",
       "       '18C', '15T', '18D', '05B', '20B', '02E', '17A', '04G', '18B',\n",
       "       '18G', '03D', '03F', '06I', '16F', '19A', '02J', '04I', '05I', '15H'], dtype=object)"
      ]
     },
     "execution_count": 8,
     "metadata": {},
     "output_type": "execute_result"
    }
   ],
   "source": [
    "df['VIOLATION CODE'].unique()"
   ]
  },
  {
   "cell_type": "code",
   "execution_count": 8,
   "metadata": {},
   "outputs": [
    {
     "data": {
      "text/plain": [
       "100"
      ]
     },
     "execution_count": 8,
     "metadata": {},
     "output_type": "execute_result"
    }
   ],
   "source": [
    "len(df['VIOLATION CODE'].unique())"
   ]
  },
  {
   "cell_type": "code",
   "execution_count": 9,
   "metadata": {},
   "outputs": [
    {
     "data": {
      "text/plain": [
       "array(['Critical', 'Not Critical', 'Not Applicable'], dtype=object)"
      ]
     },
     "execution_count": 9,
     "metadata": {},
     "output_type": "execute_result"
    }
   ],
   "source": [
    "df['CRITICAL FLAG'].unique()"
   ]
  },
  {
   "cell_type": "code",
   "execution_count": 8,
   "metadata": {},
   "outputs": [
    {
     "data": {
      "text/plain": [
       "19908"
      ]
     },
     "execution_count": 8,
     "metadata": {},
     "output_type": "execute_result"
    }
   ],
   "source": [
    "## missing value number in df\n",
    "df['SCORE'].isnull().sum()"
   ]
  },
  {
   "cell_type": "code",
   "execution_count": 58,
   "metadata": {},
   "outputs": [
    {
     "data": {
      "text/plain": [
       "array(['Violations were cited in the following area(s).',\n",
       "       'Establishment re-opened by DOHMH', nan,\n",
       "       'Establishment Closed by DOHMH.  Violations were cited in the following area(s) and those requiring immediate action were addressed.',\n",
       "       'No violations were recorded at the time of this inspection.',\n",
       "       'Establishment re-closed by DOHMH'], dtype=object)"
      ]
     },
     "execution_count": 58,
     "metadata": {},
     "output_type": "execute_result"
    }
   ],
   "source": [
    "df['ACTION'].unique()"
   ]
  },
  {
   "cell_type": "code",
   "execution_count": 7,
   "metadata": {},
   "outputs": [
    {
     "data": {
      "text/plain": [
       "6"
      ]
     },
     "execution_count": 7,
     "metadata": {},
     "output_type": "execute_result"
    }
   ],
   "source": [
    "len(df['ACTION'].unique())"
   ]
  },
  {
   "cell_type": "code",
   "execution_count": 11,
   "metadata": {},
   "outputs": [
    {
     "data": {
      "text/plain": [
       "array(['Cycle Inspection / Initial Inspection',\n",
       "       'Cycle Inspection / Re-inspection',\n",
       "       'Cycle Inspection / Reopening Inspection',\n",
       "       'Smoke-Free Air Act / Initial Inspection', nan,\n",
       "       'Inter-Agency Task Force / Initial Inspection',\n",
       "       'Pre-permit (Operational) / Re-inspection',\n",
       "       'Smoke-Free Air Act / Re-inspection',\n",
       "       'Trans Fat / Initial Inspection',\n",
       "       'Administrative Miscellaneous / Initial Inspection',\n",
       "       'Pre-permit (Operational) / Initial Inspection',\n",
       "       'Trans Fat / Re-inspection',\n",
       "       'Pre-permit (Operational) / Compliance Inspection',\n",
       "       'Calorie Posting / Initial Inspection',\n",
       "       'Cycle Inspection / Compliance Inspection',\n",
       "       'Administrative Miscellaneous / Re-inspection',\n",
       "       'Pre-permit (Non-operational) / Initial Inspection',\n",
       "       'Cycle Inspection / Second Compliance Inspection',\n",
       "       'Pre-permit (Operational) / Reopening Inspection',\n",
       "       'Administrative Miscellaneous / Compliance Inspection',\n",
       "       'Pre-permit (Non-operational) / Re-inspection',\n",
       "       'Trans Fat / Compliance Inspection',\n",
       "       'Calorie Posting / Re-inspection',\n",
       "       'Administrative Miscellaneous / Reopening Inspection',\n",
       "       'Administrative Miscellaneous / Second Compliance Inspection',\n",
       "       'Pre-permit (Non-operational) / Compliance Inspection',\n",
       "       'Calorie Posting / Compliance Inspection',\n",
       "       'Pre-permit (Operational) / Second Compliance Inspection',\n",
       "       'Smoke-Free Air Act / Second Compliance Inspection',\n",
       "       'Trans Fat / Second Compliance Inspection',\n",
       "       'Smoke-Free Air Act / Compliance Inspection',\n",
       "       'Smoke-Free Air Act / Limited Inspection',\n",
       "       'Inter-Agency Task Force / Re-inspection',\n",
       "       'Calorie Posting / Second Compliance Inspection',\n",
       "       'Trans Fat / Limited Inspection'], dtype=object)"
      ]
     },
     "execution_count": 11,
     "metadata": {},
     "output_type": "execute_result"
    }
   ],
   "source": [
    "df['INSPECTION TYPE'].unique()"
   ]
  },
  {
   "cell_type": "code",
   "execution_count": 6,
   "metadata": {},
   "outputs": [
    {
     "data": {
      "text/plain": [
       "35"
      ]
     },
     "execution_count": 6,
     "metadata": {},
     "output_type": "execute_result"
    }
   ],
   "source": [
    "len(df['INSPECTION TYPE'].unique())"
   ]
  },
  {
   "cell_type": "code",
   "execution_count": 17,
   "metadata": {},
   "outputs": [
    {
     "data": {
      "text/plain": [
       "(100, 18)"
      ]
     },
     "execution_count": 17,
     "metadata": {},
     "output_type": "execute_result"
    }
   ],
   "source": [
    "small_df = df[:100]\n",
    "small_df.shape"
   ]
  },
  {
   "cell_type": "code",
   "execution_count": 16,
   "metadata": {},
   "outputs": [
    {
     "name": "stdout",
     "output_type": "stream",
     "text": [
      "3.87 ms ± 151 µs per loop (mean ± std. dev. of 7 runs, 1000 loops each)\n"
     ]
    }
   ],
   "source": [
    "%timeit -n 1000 small_df.apply(lambda x: x.count(), axis=1)"
   ]
  },
  {
   "cell_type": "code",
   "execution_count": 17,
   "metadata": {},
   "outputs": [
    {
     "name": "stdout",
     "output_type": "stream",
     "text": [
      "499 µs ± 16.3 µs per loop (mean ± std. dev. of 7 runs, 1000 loops each)\n"
     ]
    }
   ],
   "source": [
    "%timeit -n 1000 small_df.isnull().sum(axis=1)"
   ]
  },
  {
   "cell_type": "code",
   "execution_count": 21,
   "metadata": {},
   "outputs": [
    {
     "data": {
      "text/plain": [
       "CAMIS                         0\n",
       "DBA                         505\n",
       "BORO                          0\n",
       "BUILDING                    170\n",
       "STREET                        4\n",
       "ZIPCODE                       4\n",
       "PHONE                         4\n",
       "CUISINE DESCRIPTION           0\n",
       "INSPECTION DATE               0\n",
       "ACTION                     1218\n",
       "VIOLATION CODE             6134\n",
       "VIOLATION DESCRIPTION      7395\n",
       "CRITICAL FLAG                 0\n",
       "SCORE                     20238\n",
       "GRADE                    186626\n",
       "GRADE DATE               188705\n",
       "RECORD DATE                   0\n",
       "INSPECTION TYPE            1218\n",
       "dtype: int64"
      ]
     },
     "execution_count": 21,
     "metadata": {},
     "output_type": "execute_result"
    }
   ],
   "source": [
    "## check missing value for each column\n",
    "missing_value = df.isnull().sum(axis=0)\n",
    "missing_value"
   ]
  },
  {
   "cell_type": "code",
   "execution_count": 26,
   "metadata": {},
   "outputs": [
    {
     "data": {
      "text/plain": [
       "Index(['CAMIS', 'DBA', 'BORO', 'BUILDING', 'STREET', 'ZIPCODE', 'PHONE',\n",
       "       'CUISINE DESCRIPTION', 'INSPECTION DATE', 'ACTION', 'VIOLATION CODE',\n",
       "       'VIOLATION DESCRIPTION', 'CRITICAL FLAG', 'SCORE', 'GRADE',\n",
       "       'GRADE DATE', 'RECORD DATE', 'INSPECTION TYPE'],\n",
       "      dtype='object')"
      ]
     },
     "execution_count": 26,
     "metadata": {},
     "output_type": "execute_result"
    }
   ],
   "source": [
    "missing_value.index"
   ]
  },
  {
   "cell_type": "code",
   "execution_count": 40,
   "metadata": {},
   "outputs": [
    {
     "data": {
      "text/html": [
       "<div>\n",
       "<table border=\"1\" class=\"dataframe\">\n",
       "  <thead>\n",
       "    <tr style=\"text-align: right;\">\n",
       "      <th></th>\n",
       "      <th>column_name</th>\n",
       "      <th>missing_num</th>\n",
       "    </tr>\n",
       "  </thead>\n",
       "  <tbody>\n",
       "    <tr>\n",
       "      <th>0</th>\n",
       "      <td>CAMIS</td>\n",
       "      <td>0</td>\n",
       "    </tr>\n",
       "    <tr>\n",
       "      <th>1</th>\n",
       "      <td>CRITICAL FLAG</td>\n",
       "      <td>0</td>\n",
       "    </tr>\n",
       "    <tr>\n",
       "      <th>2</th>\n",
       "      <td>RECORD DATE</td>\n",
       "      <td>0</td>\n",
       "    </tr>\n",
       "    <tr>\n",
       "      <th>3</th>\n",
       "      <td>CUISINE DESCRIPTION</td>\n",
       "      <td>0</td>\n",
       "    </tr>\n",
       "    <tr>\n",
       "      <th>4</th>\n",
       "      <td>INSPECTION DATE</td>\n",
       "      <td>0</td>\n",
       "    </tr>\n",
       "    <tr>\n",
       "      <th>5</th>\n",
       "      <td>BORO</td>\n",
       "      <td>0</td>\n",
       "    </tr>\n",
       "    <tr>\n",
       "      <th>7</th>\n",
       "      <td>PHONE</td>\n",
       "      <td>4</td>\n",
       "    </tr>\n",
       "    <tr>\n",
       "      <th>8</th>\n",
       "      <td>STREET</td>\n",
       "      <td>4</td>\n",
       "    </tr>\n",
       "    <tr>\n",
       "      <th>6</th>\n",
       "      <td>ZIPCODE</td>\n",
       "      <td>4</td>\n",
       "    </tr>\n",
       "    <tr>\n",
       "      <th>9</th>\n",
       "      <td>BUILDING</td>\n",
       "      <td>170</td>\n",
       "    </tr>\n",
       "    <tr>\n",
       "      <th>10</th>\n",
       "      <td>DBA</td>\n",
       "      <td>505</td>\n",
       "    </tr>\n",
       "    <tr>\n",
       "      <th>11</th>\n",
       "      <td>ACTION</td>\n",
       "      <td>1218</td>\n",
       "    </tr>\n",
       "    <tr>\n",
       "      <th>12</th>\n",
       "      <td>INSPECTION TYPE</td>\n",
       "      <td>1218</td>\n",
       "    </tr>\n",
       "    <tr>\n",
       "      <th>13</th>\n",
       "      <td>VIOLATION CODE</td>\n",
       "      <td>6134</td>\n",
       "    </tr>\n",
       "    <tr>\n",
       "      <th>14</th>\n",
       "      <td>VIOLATION DESCRIPTION</td>\n",
       "      <td>7395</td>\n",
       "    </tr>\n",
       "    <tr>\n",
       "      <th>15</th>\n",
       "      <td>SCORE</td>\n",
       "      <td>20238</td>\n",
       "    </tr>\n",
       "    <tr>\n",
       "      <th>16</th>\n",
       "      <td>GRADE</td>\n",
       "      <td>186626</td>\n",
       "    </tr>\n",
       "    <tr>\n",
       "      <th>17</th>\n",
       "      <td>GRADE DATE</td>\n",
       "      <td>188705</td>\n",
       "    </tr>\n",
       "  </tbody>\n",
       "</table>\n",
       "</div>"
      ],
      "text/plain": [
       "              column_name  missing_num\n",
       "0                   CAMIS            0\n",
       "1           CRITICAL FLAG            0\n",
       "2             RECORD DATE            0\n",
       "3     CUISINE DESCRIPTION            0\n",
       "4         INSPECTION DATE            0\n",
       "5                    BORO            0\n",
       "7                   PHONE            4\n",
       "8                  STREET            4\n",
       "6                 ZIPCODE            4\n",
       "9                BUILDING          170\n",
       "10                    DBA          505\n",
       "11                 ACTION         1218\n",
       "12        INSPECTION TYPE         1218\n",
       "13         VIOLATION CODE         6134\n",
       "14  VIOLATION DESCRIPTION         7395\n",
       "15                  SCORE        20238\n",
       "16                  GRADE       186626\n",
       "17             GRADE DATE       188705"
      ]
     },
     "execution_count": 40,
     "metadata": {},
     "output_type": "execute_result"
    }
   ],
   "source": [
    "df_missing = pd.DataFrame({'column_name': missing_value.index, 'missing_num': missing_value.values})\n",
    "df_missing.sort_values(by=['missing_num'])"
   ]
  },
  {
   "cell_type": "code",
   "execution_count": 48,
   "metadata": {},
   "outputs": [
    {
     "data": {
      "image/png": "[encoded data removed]",
      "text/plain": [
       "<matplotlib.figure.Figure at 0x110c6f438>"
      ]
     },
     "metadata": {},
     "output_type": "display_data"
    }
   ],
   "source": [
    "fig, ax =plt.subplots(figsize = (40,10))\n",
    "missing_plot_sns = sns.barplot(x='column_name', y='missing_num',data=df_missing)\n",
    "plt.show()"
   ]
  },
  {
   "cell_type": "code",
   "execution_count": 56,
   "metadata": {},
   "outputs": [
    {
     "data": {
      "text/plain": [
       "([<matplotlib.axis.XTick at 0x11029a0f0>,\n",
       "  <matplotlib.axis.XTick at 0x110a2a358>,\n",
       "  <matplotlib.axis.XTick at 0x1097b9400>,\n",
       "  <matplotlib.axis.XTick at 0x10fbcfb38>,\n",
       "  <matplotlib.axis.XTick at 0x11095e6a0>,\n",
       "  <matplotlib.axis.XTick at 0x1113a0978>,\n",
       "  <matplotlib.axis.XTick at 0x10fbc9630>,\n",
       "  <matplotlib.axis.XTick at 0x10fbc9748>,\n",
       "  <matplotlib.axis.XTick at 0x10fbc1d30>,\n",
       "  <matplotlib.axis.XTick at 0x110a30550>,\n",
       "  <matplotlib.axis.XTick at 0x10dec1c18>,\n",
       "  <matplotlib.axis.XTick at 0x110b0ecc0>,\n",
       "  <matplotlib.axis.XTick at 0x10fc12ac8>,\n",
       "  <matplotlib.axis.XTick at 0x11096ee48>,\n",
       "  <matplotlib.axis.XTick at 0x11096e748>,\n",
       "  <matplotlib.axis.XTick at 0x110943b70>,\n",
       "  <matplotlib.axis.XTick at 0x110996a58>,\n",
       "  <matplotlib.axis.XTick at 0x1109968d0>],\n",
       " <a list of 18 Text xticklabel objects>)"
      ]
     },
     "execution_count": 56,
     "metadata": {},
     "output_type": "execute_result"
    }
   ],
   "source": [
    "x_pos = np.arange(len(df_missing.column_name))\n",
    "fig, ax=plt.subplots(figsize=(40, 10))\n",
    "ax.bar(x_pos, df_missing.missing_num,align='center')\n",
    "plt.xticks(x_pos, df_missing.column_name)"
   ]
  },
  {
   "cell_type": "code",
   "execution_count": 57,
   "metadata": {},
   "outputs": [
    {
     "data": {
      "image/png": "[encoded data removed]",
      "text/plain": [
       "<matplotlib.figure.Figure at 0x1103ae390>"
      ]
     },
     "metadata": {},
     "output_type": "display_data"
    }
   ],
   "source": [
    "plt.show()"
   ]
  },
  {
   "cell_type": "code",
   "execution_count": 59,
   "metadata": {},
   "outputs": [
    {
     "data": {
      "text/plain": [
       "0         False\n",
       "1         False\n",
       "2         False\n",
       "3         False\n",
       "4          True\n",
       "5         False\n",
       "6         False\n",
       "7         False\n",
       "8         False\n",
       "9         False\n",
       "10        False\n",
       "11        False\n",
       "12        False\n",
       "13        False\n",
       "14        False\n",
       "15        False\n",
       "16        False\n",
       "17         True\n",
       "18        False\n",
       "19        False\n",
       "20        False\n",
       "21        False\n",
       "22        False\n",
       "23        False\n",
       "24        False\n",
       "25        False\n",
       "26        False\n",
       "27        False\n",
       "28         True\n",
       "29        False\n",
       "          ...  \n",
       "372931    False\n",
       "372932    False\n",
       "372933    False\n",
       "372934    False\n",
       "372935    False\n",
       "372936    False\n",
       "372937    False\n",
       "372938     True\n",
       "372939    False\n",
       "372940    False\n",
       "372941    False\n",
       "372942     True\n",
       "372943    False\n",
       "372944    False\n",
       "372945    False\n",
       "372946    False\n",
       "372947    False\n",
       "372948    False\n",
       "372949    False\n",
       "372950    False\n",
       "372951    False\n",
       "372952    False\n",
       "372953    False\n",
       "372954    False\n",
       "372955    False\n",
       "372956    False\n",
       "372957     True\n",
       "372958    False\n",
       "372959     True\n",
       "372960    False\n",
       "Name: INSPECTION DATE, dtype: bool"
      ]
     },
     "execution_count": 59,
     "metadata": {},
     "output_type": "execute_result"
    }
   ],
   "source": [
    " ## phone number as id, critical flag, cusine description, inspection date (2018), violocation code, violation desc\n",
    "df['INSPECTION DATE']=pd.to_datetime(df['INSPECTION DATE'])\n",
    "df['INSPECTION DATE'] > '2017-12-31'"
   ]
  },
  {
   "cell_type": "code",
   "execution_count": 60,
   "metadata": {},
   "outputs": [
    {
     "data": {
      "text/html": [
       "<div>\n",
       "<table border=\"1\" class=\"dataframe\">\n",
       "  <thead>\n",
       "    <tr style=\"text-align: right;\">\n",
       "      <th></th>\n",
       "      <th>CAMIS</th>\n",
       "      <th>DBA</th>\n",
       "      <th>BORO</th>\n",
       "      <th>BUILDING</th>\n",
       "      <th>STREET</th>\n",
       "      <th>ZIPCODE</th>\n",
       "      <th>PHONE</th>\n",
       "      <th>CUISINE DESCRIPTION</th>\n",
       "      <th>INSPECTION DATE</th>\n",
       "      <th>ACTION</th>\n",
       "      <th>VIOLATION CODE</th>\n",
       "      <th>VIOLATION DESCRIPTION</th>\n",
       "      <th>CRITICAL FLAG</th>\n",
       "      <th>SCORE</th>\n",
       "      <th>GRADE</th>\n",
       "      <th>GRADE DATE</th>\n",
       "      <th>RECORD DATE</th>\n",
       "      <th>INSPECTION TYPE</th>\n",
       "    </tr>\n",
       "  </thead>\n",
       "  <tbody>\n",
       "    <tr>\n",
       "      <th>4</th>\n",
       "      <td>50017755</td>\n",
       "      <td>CALEDONIA</td>\n",
       "      <td>MANHATTAN</td>\n",
       "      <td>1609</td>\n",
       "      <td>2ND AVE</td>\n",
       "      <td>10028.0</td>\n",
       "      <td>2127344300</td>\n",
       "      <td>Irish</td>\n",
       "      <td>2018-01-27</td>\n",
       "      <td>Violations were cited in the following area(s).</td>\n",
       "      <td>06D</td>\n",
       "      <td>Food contact surface not properly washed, rins...</td>\n",
       "      <td>Critical</td>\n",
       "      <td>7.0</td>\n",
       "      <td>A</td>\n",
       "      <td>01/27/2018</td>\n",
       "      <td>05/15/2018</td>\n",
       "      <td>Cycle Inspection / Initial Inspection</td>\n",
       "    </tr>\n",
       "    <tr>\n",
       "      <th>17</th>\n",
       "      <td>50007857</td>\n",
       "      <td>DON PANCHOLO LECHONERA RESTAURANT</td>\n",
       "      <td>BRONX</td>\n",
       "      <td>2037</td>\n",
       "      <td>JEROME AVE</td>\n",
       "      <td>10453.0</td>\n",
       "      <td>7185832979</td>\n",
       "      <td>Latin (Cuban, Dominican, Puerto Rican, South &amp;...</td>\n",
       "      <td>2018-01-22</td>\n",
       "      <td>Violations were cited in the following area(s).</td>\n",
       "      <td>09C</td>\n",
       "      <td>Food contact surface not properly maintained.</td>\n",
       "      <td>Not Critical</td>\n",
       "      <td>11.0</td>\n",
       "      <td>A</td>\n",
       "      <td>01/22/2018</td>\n",
       "      <td>05/15/2018</td>\n",
       "      <td>Cycle Inspection / Re-inspection</td>\n",
       "    </tr>\n",
       "    <tr>\n",
       "      <th>28</th>\n",
       "      <td>50005789</td>\n",
       "      <td>KASHMIR</td>\n",
       "      <td>MANHATTAN</td>\n",
       "      <td>478</td>\n",
       "      <td>9TH AVE</td>\n",
       "      <td>10018.0</td>\n",
       "      <td>2127367745</td>\n",
       "      <td>Pakistani</td>\n",
       "      <td>2018-03-07</td>\n",
       "      <td>Violations were cited in the following area(s).</td>\n",
       "      <td>06C</td>\n",
       "      <td>Food not protected from potential source of co...</td>\n",
       "      <td>Critical</td>\n",
       "      <td>35.0</td>\n",
       "      <td>NaN</td>\n",
       "      <td>NaN</td>\n",
       "      <td>05/15/2018</td>\n",
       "      <td>Cycle Inspection / Initial Inspection</td>\n",
       "    </tr>\n",
       "    <tr>\n",
       "      <th>32</th>\n",
       "      <td>50057272</td>\n",
       "      <td>11 HANOVER GREEK</td>\n",
       "      <td>MANHATTAN</td>\n",
       "      <td>11</td>\n",
       "      <td>HANOVER SQ</td>\n",
       "      <td>10005.0</td>\n",
       "      <td>2127854000</td>\n",
       "      <td>Greek</td>\n",
       "      <td>2018-02-21</td>\n",
       "      <td>Violations were cited in the following area(s).</td>\n",
       "      <td>08A</td>\n",
       "      <td>Facility not vermin proof. Harborage or condit...</td>\n",
       "      <td>Not Critical</td>\n",
       "      <td>74.0</td>\n",
       "      <td>NaN</td>\n",
       "      <td>NaN</td>\n",
       "      <td>05/15/2018</td>\n",
       "      <td>Cycle Inspection / Initial Inspection</td>\n",
       "    </tr>\n",
       "    <tr>\n",
       "      <th>39</th>\n",
       "      <td>50001029</td>\n",
       "      <td>EL VIEJO GRAN CAFE</td>\n",
       "      <td>BRONX</td>\n",
       "      <td>498</td>\n",
       "      <td>E 138TH ST</td>\n",
       "      <td>10454.0</td>\n",
       "      <td>7189933932</td>\n",
       "      <td>Spanish</td>\n",
       "      <td>2018-05-10</td>\n",
       "      <td>Violations were cited in the following area(s).</td>\n",
       "      <td>02H</td>\n",
       "      <td>Food not cooled by an approved method whereby ...</td>\n",
       "      <td>Critical</td>\n",
       "      <td>25.0</td>\n",
       "      <td>Z</td>\n",
       "      <td>05/10/2018</td>\n",
       "      <td>05/15/2018</td>\n",
       "      <td>Cycle Inspection / Re-inspection</td>\n",
       "    </tr>\n",
       "  </tbody>\n",
       "</table>\n",
       "</div>"
      ],
      "text/plain": [
       "       CAMIS                                DBA       BORO BUILDING  \\\n",
       "4   50017755                          CALEDONIA  MANHATTAN     1609   \n",
       "17  50007857  DON PANCHOLO LECHONERA RESTAURANT      BRONX     2037   \n",
       "28  50005789                            KASHMIR  MANHATTAN      478   \n",
       "32  50057272                   11 HANOVER GREEK  MANHATTAN       11   \n",
       "39  50001029                 EL VIEJO GRAN CAFE      BRONX      498   \n",
       "\n",
       "        STREET  ZIPCODE       PHONE  \\\n",
       "4      2ND AVE  10028.0  2127344300   \n",
       "17  JEROME AVE  10453.0  7185832979   \n",
       "28     9TH AVE  10018.0  2127367745   \n",
       "32  HANOVER SQ  10005.0  2127854000   \n",
       "39  E 138TH ST  10454.0  7189933932   \n",
       "\n",
       "                                  CUISINE DESCRIPTION INSPECTION DATE  \\\n",
       "4                                               Irish      2018-01-27   \n",
       "17  Latin (Cuban, Dominican, Puerto Rican, South &...      2018-01-22   \n",
       "28                                          Pakistani      2018-03-07   \n",
       "32                                              Greek      2018-02-21   \n",
       "39                                            Spanish      2018-05-10   \n",
       "\n",
       "                                             ACTION VIOLATION CODE  \\\n",
       "4   Violations were cited in the following area(s).            06D   \n",
       "17  Violations were cited in the following area(s).            09C   \n",
       "28  Violations were cited in the following area(s).            06C   \n",
       "32  Violations were cited in the following area(s).            08A   \n",
       "39  Violations were cited in the following area(s).            02H   \n",
       "\n",
       "                                VIOLATION DESCRIPTION CRITICAL FLAG  SCORE  \\\n",
       "4   Food contact surface not properly washed, rins...      Critical    7.0   \n",
       "17      Food contact surface not properly maintained.  Not Critical   11.0   \n",
       "28  Food not protected from potential source of co...      Critical   35.0   \n",
       "32  Facility not vermin proof. Harborage or condit...  Not Critical   74.0   \n",
       "39  Food not cooled by an approved method whereby ...      Critical   25.0   \n",
       "\n",
       "   GRADE  GRADE DATE RECORD DATE                        INSPECTION TYPE  \n",
       "4      A  01/27/2018  05/15/2018  Cycle Inspection / Initial Inspection  \n",
       "17     A  01/22/2018  05/15/2018       Cycle Inspection / Re-inspection  \n",
       "28   NaN         NaN  05/15/2018  Cycle Inspection / Initial Inspection  \n",
       "32   NaN         NaN  05/15/2018  Cycle Inspection / Initial Inspection  \n",
       "39     Z  05/10/2018  05/15/2018       Cycle Inspection / Re-inspection  "
      ]
     },
     "execution_count": 60,
     "metadata": {},
     "output_type": "execute_result"
    }
   ],
   "source": [
    "df_2018 = df[df['INSPECTION DATE'] > '2017-12-31']\n",
    "df_2018.head()"
   ]
  },
  {
   "cell_type": "code",
   "execution_count": 61,
   "metadata": {},
   "outputs": [
    {
     "data": {
      "text/plain": [
       "(63462, 18)"
      ]
     },
     "execution_count": 61,
     "metadata": {},
     "output_type": "execute_result"
    }
   ],
   "source": [
    "df_2018.shape"
   ]
  },
  {
   "cell_type": "code",
   "execution_count": 9,
   "metadata": {
    "collapsed": true
   },
   "outputs": [],
   "source": [
    "from nltk.tokenize import word_tokenize\n",
    "from nltk.corpus import stopwords\n",
    "from string import punctuation"
   ]
  },
  {
   "cell_type": "code",
   "execution_count": 70,
   "metadata": {},
   "outputs": [
    {
     "data": {
      "text/html": [
       "<div>\n",
       "<table border=\"1\" class=\"dataframe\">\n",
       "  <thead>\n",
       "    <tr style=\"text-align: right;\">\n",
       "      <th></th>\n",
       "      <th>token_desc</th>\n",
       "    </tr>\n",
       "  </thead>\n",
       "  <tbody>\n",
       "    <tr>\n",
       "      <th>0</th>\n",
       "      <td>[hey, how, are, you]</td>\n",
       "    </tr>\n",
       "    <tr>\n",
       "      <th>1</th>\n",
       "      <td>[i, m, good, ,, thank, you, !]</td>\n",
       "    </tr>\n",
       "  </tbody>\n",
       "</table>\n",
       "</div>"
      ],
      "text/plain": [
       "                       token_desc\n",
       "0            [hey, how, are, you]\n",
       "1  [i, m, good, ,, thank, you, !]"
      ]
     },
     "execution_count": 70,
     "metadata": {},
     "output_type": "execute_result"
    }
   ],
   "source": [
    "pd.DataFrame({'token_desc': list(map(word_tokenize, test))})"
   ]
  },
  {
   "cell_type": "code",
   "execution_count": 10,
   "metadata": {},
   "outputs": [
    {
     "data": {
      "text/plain": [
       "['i', 'm', 'good', ',', 'thank', 'you', '!']"
      ]
     },
     "execution_count": 10,
     "metadata": {},
     "output_type": "execute_result"
    }
   ],
   "source": [
    "test = ['hey how are you', 'i m good, thank you !']\n",
    "a = pd.DataFrame({'token_desc': list(map(word_tokenize, test))})\n",
    "a['token_desc'][1]"
   ]
  },
  {
   "cell_type": "code",
   "execution_count": 82,
   "metadata": {},
   "outputs": [
    {
     "data": {
      "text/plain": [
       "['m', 'good', 'thank']"
      ]
     },
     "execution_count": 82,
     "metadata": {},
     "output_type": "execute_result"
    }
   ],
   "source": [
    "[w for w in a['token_desc'][1] if w not in stopwords.words('english')[:10] and w not in punctuation]"
   ]
  },
  {
   "cell_type": "code",
   "execution_count": 73,
   "metadata": {},
   "outputs": [
    {
     "data": {
      "text/plain": [
       "['i', 'me', 'my', 'myself', 'we', 'our', 'ours', 'ourselves', 'you', \"you're\"]"
      ]
     },
     "execution_count": 73,
     "metadata": {},
     "output_type": "execute_result"
    }
   ],
   "source": [
    "stopwords.words('english')[:10]"
   ]
  },
  {
   "cell_type": "code",
   "execution_count": 85,
   "metadata": {
    "collapsed": true
   },
   "outputs": [],
   "source": [
    "a['clean']=list(map(lambda x: [w for w in x if w not in stopwords.words('english')[:10] and w not in punctuation], a['token_desc']))"
   ]
  },
  {
   "cell_type": "code",
   "execution_count": 86,
   "metadata": {},
   "outputs": [
    {
     "data": {
      "text/html": [
       "<div>\n",
       "<table border=\"1\" class=\"dataframe\">\n",
       "  <thead>\n",
       "    <tr style=\"text-align: right;\">\n",
       "      <th></th>\n",
       "      <th>token_desc</th>\n",
       "      <th>clean</th>\n",
       "    </tr>\n",
       "  </thead>\n",
       "  <tbody>\n",
       "    <tr>\n",
       "      <th>0</th>\n",
       "      <td>[hey, how, are, you]</td>\n",
       "      <td>[hey, how, are]</td>\n",
       "    </tr>\n",
       "    <tr>\n",
       "      <th>1</th>\n",
       "      <td>[i, m, good, ,, thank, you, !]</td>\n",
       "      <td>[m, good, thank]</td>\n",
       "    </tr>\n",
       "  </tbody>\n",
       "</table>\n",
       "</div>"
      ],
      "text/plain": [
       "                       token_desc             clean\n",
       "0            [hey, how, are, you]   [hey, how, are]\n",
       "1  [i, m, good, ,, thank, you, !]  [m, good, thank]"
      ]
     },
     "execution_count": 86,
     "metadata": {},
     "output_type": "execute_result"
    }
   ],
   "source": [
    "a"
   ]
  },
  {
   "cell_type": "markdown",
   "metadata": {},
   "source": [
    "### clean the column 'Violation description', decode to remove special characters, remove the stop words and punctuations"
   ]
  },
  {
   "cell_type": "code",
   "execution_count": 18,
   "metadata": {},
   "outputs": [
    {
     "ename": "TypeError",
     "evalue": "expected string or bytes-like object",
     "output_type": "error",
     "traceback": [
      "\u001b[0;31m---------------------------------------------------------------------------\u001b[0m",
      "\u001b[0;31mTypeError\u001b[0m                                 Traceback (most recent call last)",
      "\u001b[0;32m<ipython-input-18-705dc1f31ec1>\u001b[0m in \u001b[0;36m<module>\u001b[0;34m()\u001b[0m\n\u001b[0;32m----> 1\u001b[0;31m \u001b[0mdf_2018\u001b[0m\u001b[0;34m[\u001b[0m\u001b[0;34m'violation_desc_token'\u001b[0m\u001b[0;34m]\u001b[0m \u001b[0;34m=\u001b[0m \u001b[0mlist\u001b[0m\u001b[0;34m(\u001b[0m\u001b[0mmap\u001b[0m\u001b[0;34m(\u001b[0m\u001b[0mword_tokenize\u001b[0m\u001b[0;34m,\u001b[0m \u001b[0mlist\u001b[0m\u001b[0;34m(\u001b[0m\u001b[0msmall_df\u001b[0m\u001b[0;34m[\u001b[0m\u001b[0;34m'VIOLATION DESCRIPTION'\u001b[0m\u001b[0;34m]\u001b[0m\u001b[0;34m)\u001b[0m\u001b[0;34m)\u001b[0m\u001b[0;34m)\u001b[0m\u001b[0;34m\u001b[0m\u001b[0m\n\u001b[0m",
      "\u001b[0;32m/Library/Frameworks/Python.framework/Versions/3.6/lib/python3.6/site-packages/nltk/tokenize/__init__.py\u001b[0m in \u001b[0;36mword_tokenize\u001b[0;34m(text, language, preserve_line)\u001b[0m\n\u001b[1;32m    126\u001b[0m     \u001b[0;34m:\u001b[0m\u001b[0mtype\u001b[0m \u001b[0mpreserver_line\u001b[0m\u001b[0;34m:\u001b[0m \u001b[0mbool\u001b[0m\u001b[0;34m\u001b[0m\u001b[0m\n\u001b[1;32m    127\u001b[0m     \"\"\"\n\u001b[0;32m--> 128\u001b[0;31m     \u001b[0msentences\u001b[0m \u001b[0;34m=\u001b[0m \u001b[0;34m[\u001b[0m\u001b[0mtext\u001b[0m\u001b[0;34m]\u001b[0m \u001b[0;32mif\u001b[0m \u001b[0mpreserve_line\u001b[0m \u001b[0;32melse\u001b[0m \u001b[0msent_tokenize\u001b[0m\u001b[0;34m(\u001b[0m\u001b[0mtext\u001b[0m\u001b[0;34m,\u001b[0m \u001b[0mlanguage\u001b[0m\u001b[0;34m)\u001b[0m\u001b[0;34m\u001b[0m\u001b[0m\n\u001b[0m\u001b[1;32m    129\u001b[0m     return [token for sent in sentences\n\u001b[1;32m    130\u001b[0m             for token in _treebank_word_tokenizer.tokenize(sent)]\n",
      "\u001b[0;32m/Library/Frameworks/Python.framework/Versions/3.6/lib/python3.6/site-packages/nltk/tokenize/__init__.py\u001b[0m in \u001b[0;36msent_tokenize\u001b[0;34m(text, language)\u001b[0m\n\u001b[1;32m     93\u001b[0m     \"\"\"\n\u001b[1;32m     94\u001b[0m     \u001b[0mtokenizer\u001b[0m \u001b[0;34m=\u001b[0m \u001b[0mload\u001b[0m\u001b[0;34m(\u001b[0m\u001b[0;34m'tokenizers/punkt/{0}.pickle'\u001b[0m\u001b[0;34m.\u001b[0m\u001b[0mformat\u001b[0m\u001b[0;34m(\u001b[0m\u001b[0mlanguage\u001b[0m\u001b[0;34m)\u001b[0m\u001b[0;34m)\u001b[0m\u001b[0;34m\u001b[0m\u001b[0m\n\u001b[0;32m---> 95\u001b[0;31m     \u001b[0;32mreturn\u001b[0m \u001b[0mtokenizer\u001b[0m\u001b[0;34m.\u001b[0m\u001b[0mtokenize\u001b[0m\u001b[0;34m(\u001b[0m\u001b[0mtext\u001b[0m\u001b[0;34m)\u001b[0m\u001b[0;34m\u001b[0m\u001b[0m\n\u001b[0m\u001b[1;32m     96\u001b[0m \u001b[0;34m\u001b[0m\u001b[0m\n\u001b[1;32m     97\u001b[0m \u001b[0;31m# Standard word tokenizer.\u001b[0m\u001b[0;34m\u001b[0m\u001b[0;34m\u001b[0m\u001b[0m\n",
      "\u001b[0;32m/Library/Frameworks/Python.framework/Versions/3.6/lib/python3.6/site-packages/nltk/tokenize/punkt.py\u001b[0m in \u001b[0;36mtokenize\u001b[0;34m(self, text, realign_boundaries)\u001b[0m\n\u001b[1;32m   1239\u001b[0m         \u001b[0mGiven\u001b[0m \u001b[0ma\u001b[0m \u001b[0mtext\u001b[0m\u001b[0;34m,\u001b[0m \u001b[0mreturns\u001b[0m \u001b[0ma\u001b[0m \u001b[0mlist\u001b[0m \u001b[0mof\u001b[0m \u001b[0mthe\u001b[0m \u001b[0msentences\u001b[0m \u001b[0;32min\u001b[0m \u001b[0mthat\u001b[0m \u001b[0mtext\u001b[0m\u001b[0;34m.\u001b[0m\u001b[0;34m\u001b[0m\u001b[0m\n\u001b[1;32m   1240\u001b[0m         \"\"\"\n\u001b[0;32m-> 1241\u001b[0;31m         \u001b[0;32mreturn\u001b[0m \u001b[0mlist\u001b[0m\u001b[0;34m(\u001b[0m\u001b[0mself\u001b[0m\u001b[0;34m.\u001b[0m\u001b[0msentences_from_text\u001b[0m\u001b[0;34m(\u001b[0m\u001b[0mtext\u001b[0m\u001b[0;34m,\u001b[0m \u001b[0mrealign_boundaries\u001b[0m\u001b[0;34m)\u001b[0m\u001b[0;34m)\u001b[0m\u001b[0;34m\u001b[0m\u001b[0m\n\u001b[0m\u001b[1;32m   1242\u001b[0m \u001b[0;34m\u001b[0m\u001b[0m\n\u001b[1;32m   1243\u001b[0m     \u001b[0;32mdef\u001b[0m \u001b[0mdebug_decisions\u001b[0m\u001b[0;34m(\u001b[0m\u001b[0mself\u001b[0m\u001b[0;34m,\u001b[0m \u001b[0mtext\u001b[0m\u001b[0;34m)\u001b[0m\u001b[0;34m:\u001b[0m\u001b[0;34m\u001b[0m\u001b[0m\n",
      "\u001b[0;32m/Library/Frameworks/Python.framework/Versions/3.6/lib/python3.6/site-packages/nltk/tokenize/punkt.py\u001b[0m in \u001b[0;36msentences_from_text\u001b[0;34m(self, text, realign_boundaries)\u001b[0m\n\u001b[1;32m   1289\u001b[0m         \u001b[0mfollows\u001b[0m \u001b[0mthe\u001b[0m \u001b[0mperiod\u001b[0m\u001b[0;34m.\u001b[0m\u001b[0;34m\u001b[0m\u001b[0m\n\u001b[1;32m   1290\u001b[0m         \"\"\"\n\u001b[0;32m-> 1291\u001b[0;31m         \u001b[0;32mreturn\u001b[0m \u001b[0;34m[\u001b[0m\u001b[0mtext\u001b[0m\u001b[0;34m[\u001b[0m\u001b[0ms\u001b[0m\u001b[0;34m:\u001b[0m\u001b[0me\u001b[0m\u001b[0;34m]\u001b[0m \u001b[0;32mfor\u001b[0m \u001b[0ms\u001b[0m\u001b[0;34m,\u001b[0m \u001b[0me\u001b[0m \u001b[0;32min\u001b[0m \u001b[0mself\u001b[0m\u001b[0;34m.\u001b[0m\u001b[0mspan_tokenize\u001b[0m\u001b[0;34m(\u001b[0m\u001b[0mtext\u001b[0m\u001b[0;34m,\u001b[0m \u001b[0mrealign_boundaries\u001b[0m\u001b[0;34m)\u001b[0m\u001b[0;34m]\u001b[0m\u001b[0;34m\u001b[0m\u001b[0m\n\u001b[0m\u001b[1;32m   1292\u001b[0m \u001b[0;34m\u001b[0m\u001b[0m\n\u001b[1;32m   1293\u001b[0m     \u001b[0;32mdef\u001b[0m \u001b[0m_slices_from_text\u001b[0m\u001b[0;34m(\u001b[0m\u001b[0mself\u001b[0m\u001b[0;34m,\u001b[0m \u001b[0mtext\u001b[0m\u001b[0;34m)\u001b[0m\u001b[0;34m:\u001b[0m\u001b[0;34m\u001b[0m\u001b[0m\n",
      "\u001b[0;32m/Library/Frameworks/Python.framework/Versions/3.6/lib/python3.6/site-packages/nltk/tokenize/punkt.py\u001b[0m in \u001b[0;36m<listcomp>\u001b[0;34m(.0)\u001b[0m\n\u001b[1;32m   1289\u001b[0m         \u001b[0mfollows\u001b[0m \u001b[0mthe\u001b[0m \u001b[0mperiod\u001b[0m\u001b[0;34m.\u001b[0m\u001b[0;34m\u001b[0m\u001b[0m\n\u001b[1;32m   1290\u001b[0m         \"\"\"\n\u001b[0;32m-> 1291\u001b[0;31m         \u001b[0;32mreturn\u001b[0m \u001b[0;34m[\u001b[0m\u001b[0mtext\u001b[0m\u001b[0;34m[\u001b[0m\u001b[0ms\u001b[0m\u001b[0;34m:\u001b[0m\u001b[0me\u001b[0m\u001b[0;34m]\u001b[0m \u001b[0;32mfor\u001b[0m \u001b[0ms\u001b[0m\u001b[0;34m,\u001b[0m \u001b[0me\u001b[0m \u001b[0;32min\u001b[0m \u001b[0mself\u001b[0m\u001b[0;34m.\u001b[0m\u001b[0mspan_tokenize\u001b[0m\u001b[0;34m(\u001b[0m\u001b[0mtext\u001b[0m\u001b[0;34m,\u001b[0m \u001b[0mrealign_boundaries\u001b[0m\u001b[0;34m)\u001b[0m\u001b[0;34m]\u001b[0m\u001b[0;34m\u001b[0m\u001b[0m\n\u001b[0m\u001b[1;32m   1292\u001b[0m \u001b[0;34m\u001b[0m\u001b[0m\n\u001b[1;32m   1293\u001b[0m     \u001b[0;32mdef\u001b[0m \u001b[0m_slices_from_text\u001b[0m\u001b[0;34m(\u001b[0m\u001b[0mself\u001b[0m\u001b[0;34m,\u001b[0m \u001b[0mtext\u001b[0m\u001b[0;34m)\u001b[0m\u001b[0;34m:\u001b[0m\u001b[0;34m\u001b[0m\u001b[0m\n",
      "\u001b[0;32m/Library/Frameworks/Python.framework/Versions/3.6/lib/python3.6/site-packages/nltk/tokenize/punkt.py\u001b[0m in \u001b[0;36mspan_tokenize\u001b[0;34m(self, text, realign_boundaries)\u001b[0m\n\u001b[1;32m   1279\u001b[0m         \u001b[0;32mif\u001b[0m \u001b[0mrealign_boundaries\u001b[0m\u001b[0;34m:\u001b[0m\u001b[0;34m\u001b[0m\u001b[0m\n\u001b[1;32m   1280\u001b[0m             \u001b[0mslices\u001b[0m \u001b[0;34m=\u001b[0m \u001b[0mself\u001b[0m\u001b[0;34m.\u001b[0m\u001b[0m_realign_boundaries\u001b[0m\u001b[0;34m(\u001b[0m\u001b[0mtext\u001b[0m\u001b[0;34m,\u001b[0m \u001b[0mslices\u001b[0m\u001b[0;34m)\u001b[0m\u001b[0;34m\u001b[0m\u001b[0m\n\u001b[0;32m-> 1281\u001b[0;31m         \u001b[0;32mfor\u001b[0m \u001b[0msl\u001b[0m \u001b[0;32min\u001b[0m \u001b[0mslices\u001b[0m\u001b[0;34m:\u001b[0m\u001b[0;34m\u001b[0m\u001b[0m\n\u001b[0m\u001b[1;32m   1282\u001b[0m             \u001b[0;32myield\u001b[0m \u001b[0;34m(\u001b[0m\u001b[0msl\u001b[0m\u001b[0;34m.\u001b[0m\u001b[0mstart\u001b[0m\u001b[0;34m,\u001b[0m \u001b[0msl\u001b[0m\u001b[0;34m.\u001b[0m\u001b[0mstop\u001b[0m\u001b[0;34m)\u001b[0m\u001b[0;34m\u001b[0m\u001b[0m\n\u001b[1;32m   1283\u001b[0m \u001b[0;34m\u001b[0m\u001b[0m\n",
      "\u001b[0;32m/Library/Frameworks/Python.framework/Versions/3.6/lib/python3.6/site-packages/nltk/tokenize/punkt.py\u001b[0m in \u001b[0;36m_realign_boundaries\u001b[0;34m(self, text, slices)\u001b[0m\n\u001b[1;32m   1320\u001b[0m         \"\"\"\n\u001b[1;32m   1321\u001b[0m         \u001b[0mrealign\u001b[0m \u001b[0;34m=\u001b[0m \u001b[0;36m0\u001b[0m\u001b[0;34m\u001b[0m\u001b[0m\n\u001b[0;32m-> 1322\u001b[0;31m         \u001b[0;32mfor\u001b[0m \u001b[0msl1\u001b[0m\u001b[0;34m,\u001b[0m \u001b[0msl2\u001b[0m \u001b[0;32min\u001b[0m \u001b[0m_pair_iter\u001b[0m\u001b[0;34m(\u001b[0m\u001b[0mslices\u001b[0m\u001b[0;34m)\u001b[0m\u001b[0;34m:\u001b[0m\u001b[0;34m\u001b[0m\u001b[0m\n\u001b[0m\u001b[1;32m   1323\u001b[0m             \u001b[0msl1\u001b[0m \u001b[0;34m=\u001b[0m \u001b[0mslice\u001b[0m\u001b[0;34m(\u001b[0m\u001b[0msl1\u001b[0m\u001b[0;34m.\u001b[0m\u001b[0mstart\u001b[0m \u001b[0;34m+\u001b[0m \u001b[0mrealign\u001b[0m\u001b[0;34m,\u001b[0m \u001b[0msl1\u001b[0m\u001b[0;34m.\u001b[0m\u001b[0mstop\u001b[0m\u001b[0;34m)\u001b[0m\u001b[0;34m\u001b[0m\u001b[0m\n\u001b[1;32m   1324\u001b[0m             \u001b[0;32mif\u001b[0m \u001b[0;32mnot\u001b[0m \u001b[0msl2\u001b[0m\u001b[0;34m:\u001b[0m\u001b[0;34m\u001b[0m\u001b[0m\n",
      "\u001b[0;32m/Library/Frameworks/Python.framework/Versions/3.6/lib/python3.6/site-packages/nltk/tokenize/punkt.py\u001b[0m in \u001b[0;36m_pair_iter\u001b[0;34m(it)\u001b[0m\n\u001b[1;32m    311\u001b[0m     \"\"\"\n\u001b[1;32m    312\u001b[0m     \u001b[0mit\u001b[0m \u001b[0;34m=\u001b[0m \u001b[0miter\u001b[0m\u001b[0;34m(\u001b[0m\u001b[0mit\u001b[0m\u001b[0;34m)\u001b[0m\u001b[0;34m\u001b[0m\u001b[0m\n\u001b[0;32m--> 313\u001b[0;31m     \u001b[0mprev\u001b[0m \u001b[0;34m=\u001b[0m \u001b[0mnext\u001b[0m\u001b[0;34m(\u001b[0m\u001b[0mit\u001b[0m\u001b[0;34m)\u001b[0m\u001b[0;34m\u001b[0m\u001b[0m\n\u001b[0m\u001b[1;32m    314\u001b[0m     \u001b[0;32mfor\u001b[0m \u001b[0mel\u001b[0m \u001b[0;32min\u001b[0m \u001b[0mit\u001b[0m\u001b[0;34m:\u001b[0m\u001b[0;34m\u001b[0m\u001b[0m\n\u001b[1;32m    315\u001b[0m         \u001b[0;32myield\u001b[0m \u001b[0;34m(\u001b[0m\u001b[0mprev\u001b[0m\u001b[0;34m,\u001b[0m \u001b[0mel\u001b[0m\u001b[0;34m)\u001b[0m\u001b[0;34m\u001b[0m\u001b[0m\n",
      "\u001b[0;32m/Library/Frameworks/Python.framework/Versions/3.6/lib/python3.6/site-packages/nltk/tokenize/punkt.py\u001b[0m in \u001b[0;36m_slices_from_text\u001b[0;34m(self, text)\u001b[0m\n\u001b[1;32m   1293\u001b[0m     \u001b[0;32mdef\u001b[0m \u001b[0m_slices_from_text\u001b[0m\u001b[0;34m(\u001b[0m\u001b[0mself\u001b[0m\u001b[0;34m,\u001b[0m \u001b[0mtext\u001b[0m\u001b[0;34m)\u001b[0m\u001b[0;34m:\u001b[0m\u001b[0;34m\u001b[0m\u001b[0m\n\u001b[1;32m   1294\u001b[0m         \u001b[0mlast_break\u001b[0m \u001b[0;34m=\u001b[0m \u001b[0;36m0\u001b[0m\u001b[0;34m\u001b[0m\u001b[0m\n\u001b[0;32m-> 1295\u001b[0;31m         \u001b[0;32mfor\u001b[0m \u001b[0mmatch\u001b[0m \u001b[0;32min\u001b[0m \u001b[0mself\u001b[0m\u001b[0;34m.\u001b[0m\u001b[0m_lang_vars\u001b[0m\u001b[0;34m.\u001b[0m\u001b[0mperiod_context_re\u001b[0m\u001b[0;34m(\u001b[0m\u001b[0;34m)\u001b[0m\u001b[0;34m.\u001b[0m\u001b[0mfinditer\u001b[0m\u001b[0;34m(\u001b[0m\u001b[0mtext\u001b[0m\u001b[0;34m)\u001b[0m\u001b[0;34m:\u001b[0m\u001b[0;34m\u001b[0m\u001b[0m\n\u001b[0m\u001b[1;32m   1296\u001b[0m             \u001b[0mcontext\u001b[0m \u001b[0;34m=\u001b[0m \u001b[0mmatch\u001b[0m\u001b[0;34m.\u001b[0m\u001b[0mgroup\u001b[0m\u001b[0;34m(\u001b[0m\u001b[0;34m)\u001b[0m \u001b[0;34m+\u001b[0m \u001b[0mmatch\u001b[0m\u001b[0;34m.\u001b[0m\u001b[0mgroup\u001b[0m\u001b[0;34m(\u001b[0m\u001b[0;34m'after_tok'\u001b[0m\u001b[0;34m)\u001b[0m\u001b[0;34m\u001b[0m\u001b[0m\n\u001b[1;32m   1297\u001b[0m             \u001b[0;32mif\u001b[0m \u001b[0mself\u001b[0m\u001b[0;34m.\u001b[0m\u001b[0mtext_contains_sentbreak\u001b[0m\u001b[0;34m(\u001b[0m\u001b[0mcontext\u001b[0m\u001b[0;34m)\u001b[0m\u001b[0;34m:\u001b[0m\u001b[0;34m\u001b[0m\u001b[0m\n",
      "\u001b[0;31mTypeError\u001b[0m: expected string or bytes-like object"
     ]
    }
   ],
   "source": [
    "df_2018['violation_desc_token'] = list(map(word_tokenize, list(small_df['VIOLATION DESCRIPTION'])))"
   ]
  },
  {
   "cell_type": "code",
   "execution_count": 19,
   "metadata": {},
   "outputs": [
    {
     "name": "stdout",
     "output_type": "stream",
     "text": [
      "['Facility', 'not', 'vermin', 'proof', '.', 'Harborage', 'or', 'conditions', 'conducive', 'to', 'attracting', 'vermin', 'to', 'the', 'premises', 'and/or', 'allowing', 'vermin', 'to', 'exist', '.']\n",
      "['Non-food', 'contact', 'surface', 'improperly', 'constructed', '.', 'Unacceptable', 'material', 'used', '.', 'Non-food', 'contact', 'surface', 'or', 'equipment', 'improperly', 'maintained', 'and/or', 'not', 'properly', 'sealed', ',', 'raised', ',', 'spaced', 'or', 'movable', 'to', 'allow', 'accessibility', 'for', 'cleaning', 'on', 'all', 'sides', ',', 'above', 'and', 'underneath', 'the', 'unit', '.']\n",
      "['Non-food', 'contact', 'surface', 'improperly', 'constructed', '.', 'Unacceptable', 'material', 'used', '.', 'Non-food', 'contact', 'surface', 'or', 'equipment', 'improperly', 'maintained', 'and/or', 'not', 'properly', 'sealed', ',', 'raised', ',', 'spaced', 'or', 'movable', 'to', 'allow', 'accessibility', 'for', 'cleaning', 'on', 'all', 'sides', ',', 'above', 'and', 'underneath', 'the', 'unit', '.']\n",
      "['Sewage', 'disposal', 'system', 'improper', 'or', 'unapproved', '.']\n",
      "['Non-food', 'contact', 'surface', 'improperly', 'constructed', '.', 'Unacceptable', 'material', 'used', '.', 'Non-food', 'contact', 'surface', 'or', 'equipment', 'improperly', 'maintained', 'and/or', 'not', 'properly', 'sealed', ',', 'raised', ',', 'spaced', 'or', 'movable', 'to', 'allow', 'accessibility', 'for', 'cleaning', 'on', 'all', 'sides', ',', 'above', 'and', 'underneath', 'the', 'unit', '.']\n",
      "['Food', 'worker', 'does', 'not', 'wash', 'hands', 'thoroughly', 'after', 'using', 'the', 'toilet', ',', 'coughing', ',', 'sneezing', ',', 'smoking', ',', 'eating', ',', 'preparing', 'raw', 'foods', 'or', 'otherwise', 'contaminating', 'hands', '.']\n",
      "['Smoke', 'free', 'workplace', 'smoking', 'policy', 'inadequate', ',', 'not', 'posted', ',', 'not', 'provided', 'to', 'employees', '.']\n",
      "['Filth', 'flies', 'or', 'food/refuse/sewage-associated', '(', 'FRSA', ')', 'flies', 'present', 'in', 'facility\\x1as', 'food', 'and/or', 'non-food', 'areas', '.', 'Filth', 'flies', 'include', 'house', 'flies', ',', 'little', 'house', 'flies', ',', 'blow', 'flies', ',', 'bottle', 'flies', 'and', 'flesh', 'flies', '.', 'Food/refuse/sewage-associated', 'flies', 'include', 'fruit', 'flies', ',', 'drain', 'flies', 'and', 'Phorid', 'flies', '.']\n",
      "['Appropriately', 'scaled', 'metal', 'stem-type', 'thermometer', 'or', 'thermocouple', 'not', 'provided', 'or', 'used', 'to', 'evaluate', 'temperatures', 'of', 'potentially', 'hazardous', 'foods', 'during', 'cooking', ',', 'cooling', ',', 'reheating', 'and', 'holding', '.']\n",
      "['Non-food', 'contact', 'surface', 'improperly', 'constructed', '.', 'Unacceptable', 'material', 'used', '.', 'Non-food', 'contact', 'surface', 'or', 'equipment', 'improperly', 'maintained', 'and/or', 'not', 'properly', 'sealed', ',', 'raised', ',', 'spaced', 'or', 'movable', 'to', 'allow', 'accessibility', 'for', 'cleaning', 'on', 'all', 'sides', ',', 'above', 'and', 'underneath', 'the', 'unit', '.']\n",
      "['Facility', 'not', 'vermin', 'proof', '.', 'Harborage', 'or', 'conditions', 'conducive', 'to', 'attracting', 'vermin', 'to', 'the', 'premises', 'and/or', 'allowing', 'vermin', 'to', 'exist', '.']\n",
      "['Tobacco', 'use', ',', 'eating', ',', 'or', 'drinking', 'from', 'open', 'container', 'in', 'food', 'preparation', ',', 'food', 'storage', 'or', 'dishwashing', 'area', 'observed', '.']\n",
      "['Single', 'service', 'item', 'reused', ',', 'improperly', 'stored', ',', 'dispensed', ';', 'not', 'used', 'when', 'required', '.']\n",
      "['Cold', 'food', 'item', 'held', 'above', '41Âº', 'F', '(', 'smoked', 'fish', 'and', 'reduced', 'oxygen', 'packaged', 'foods', 'above', '38', 'ÂºF', ')', 'except', 'during', 'necessary', 'preparation', '.']\n",
      "['Hot', 'food', 'item', 'not', 'held', 'at', 'or', 'above', '140Âº', 'F', '.']\n",
      "['Raw', ',', 'cooked', 'or', 'prepared', 'food', 'is', 'adulterated', ',', 'contaminated', ',', 'cross-contaminated', ',', 'or', 'not', 'discarded', 'in', 'accordance', 'with', 'HACCP', 'plan', '.']\n",
      "['Plumbing', 'not', 'properly', 'installed', 'or', 'maintained', ';', 'anti-siphonage', 'or', 'backflow', 'prevention', 'device', 'not', 'provided', 'where', 'required', ';', 'equipment', 'or', 'floor', 'not', 'properly', 'drained', ';', 'sewage', 'disposal', 'system', 'in', 'disrepair', 'or', 'not', 'functioning', 'properly', '.']\n",
      "['Wiping', 'cloths', 'soiled', 'or', 'not', 'stored', 'in', 'sanitizing', 'solution', '.']\n",
      "['Non-food', 'contact', 'surface', 'improperly', 'constructed', '.', 'Unacceptable', 'material', 'used', '.', 'Non-food', 'contact', 'surface', 'or', 'equipment', 'improperly', 'maintained', 'and/or', 'not', 'properly', 'sealed', ',', 'raised', ',', 'spaced', 'or', 'movable', 'to', 'allow', 'accessibility', 'for', 'cleaning', 'on', 'all', 'sides', ',', 'above', 'and', 'underneath', 'the', 'unit', '.']\n",
      "['Food', 'contact', 'surface', 'not', 'properly', 'washed', ',', 'rinsed', 'and', 'sanitized', 'after', 'each', 'use', 'and', 'following', 'any', 'activity', 'when', 'contamination', 'may', 'have', 'occurred', '.']\n",
      "['Plumbing', 'not', 'properly', 'installed', 'or', 'maintained', ';', 'anti-siphonage', 'or', 'backflow', 'prevention', 'device', 'not', 'provided', 'where', 'required', ';', 'equipment', 'or', 'floor', 'not', 'properly', 'drained', ';', 'sewage', 'disposal', 'system', 'in', 'disrepair', 'or', 'not', 'functioning', 'properly', '.']\n",
      "['Evidence', 'of', 'mice', 'or', 'live', 'mice', 'present', 'in', 'facility', \"'s\", 'food', 'and/or', 'non-food', 'areas', '.']\n",
      "['Non-food', 'contact', 'surface', 'improperly', 'constructed', '.', 'Unacceptable', 'material', 'used', '.', 'Non-food', 'contact', 'surface', 'or', 'equipment', 'improperly', 'maintained', 'and/or', 'not', 'properly', 'sealed', ',', 'raised', ',', 'spaced', 'or', 'movable', 'to', 'allow', 'accessibility', 'for', 'cleaning', 'on', 'all', 'sides', ',', 'above', 'and', 'underneath', 'the', 'unit', '.']\n",
      "['Food', 'not', 'protected', 'from', 'potential', 'source', 'of', 'contamination', 'during', 'storage', ',', 'preparation', ',', 'transportation', ',', 'display', 'or', 'service', '.']\n",
      "['Non-food', 'contact', 'surface', 'improperly', 'constructed', '.', 'Unacceptable', 'material', 'used', '.', 'Non-food', 'contact', 'surface', 'or', 'equipment', 'improperly', 'maintained', 'and/or', 'not', 'properly', 'sealed', ',', 'raised', ',', 'spaced', 'or', 'movable', 'to', 'allow', 'accessibility', 'for', 'cleaning', 'on', 'all', 'sides', ',', 'above', 'and', 'underneath', 'the', 'unit', '.']\n",
      "['Choking', 'first', 'aid\\x1a', 'poster', 'not', 'posted', '.', '\\x1aAlcohol', 'and', 'pregnancy\\x1a', 'warning', 'sign', 'not', 'posted', '.', 'Resuscitation', 'equipment', ':', 'exhaled', 'air', 'resuscitation', 'masks', '(', 'adult', '&', 'pediatric', ')', ',', 'latex', 'gloves', ',', 'sign', 'not', 'posted', '.', 'Inspection', 'report', 'sign', 'not', 'posted', '.']\n",
      "['Hand', 'washing', 'facility', 'not', 'provided', 'in', 'or', 'near', 'food', 'preparation', 'area', 'and', 'toilet', 'room', '.', 'Hot', 'and', 'cold', 'running', 'water', 'at', 'adequate', 'pressure', 'to', 'enable', 'cleanliness', 'of', 'employees', 'not', 'provided', 'at', 'facility', '.', 'Soap', 'and', 'an', 'acceptable', 'hand-drying', 'device', 'not', 'provided', '.']\n",
      "['Facility', 'not', 'vermin', 'proof', '.', 'Harborage', 'or', 'conditions', 'conducive', 'to', 'attracting', 'vermin', 'to', 'the', 'premises', 'and/or', 'allowing', 'vermin', 'to', 'exist', '.']\n",
      "['Evidence', 'of', 'mice', 'or', 'live', 'mice', 'present', 'in', 'facility', \"'s\", 'food', 'and/or', 'non-food', 'areas', '.']\n"
     ]
    },
    {
     "ename": "TypeError",
     "evalue": "expected string or bytes-like object",
     "output_type": "error",
     "traceback": [
      "\u001b[0;31m---------------------------------------------------------------------------\u001b[0m",
      "\u001b[0;31mTypeError\u001b[0m                                 Traceback (most recent call last)",
      "\u001b[0;32m<ipython-input-19-d4f69a252770>\u001b[0m in \u001b[0;36m<module>\u001b[0;34m()\u001b[0m\n\u001b[0;32m----> 1\u001b[0;31m \u001b[0;32mfor\u001b[0m \u001b[0mi\u001b[0m \u001b[0;32min\u001b[0m \u001b[0mmap\u001b[0m\u001b[0;34m(\u001b[0m\u001b[0mword_tokenize\u001b[0m\u001b[0;34m,\u001b[0m \u001b[0msmall_df\u001b[0m\u001b[0;34m[\u001b[0m\u001b[0;34m'VIOLATION DESCRIPTION'\u001b[0m\u001b[0;34m]\u001b[0m\u001b[0;34m)\u001b[0m\u001b[0;34m:\u001b[0m\u001b[0;34m\u001b[0m\u001b[0m\n\u001b[0m\u001b[1;32m      2\u001b[0m     \u001b[0mprint\u001b[0m\u001b[0;34m(\u001b[0m\u001b[0mi\u001b[0m\u001b[0;34m)\u001b[0m\u001b[0;34m\u001b[0m\u001b[0m\n",
      "\u001b[0;32m/Library/Frameworks/Python.framework/Versions/3.6/lib/python3.6/site-packages/nltk/tokenize/__init__.py\u001b[0m in \u001b[0;36mword_tokenize\u001b[0;34m(text, language, preserve_line)\u001b[0m\n\u001b[1;32m    126\u001b[0m     \u001b[0;34m:\u001b[0m\u001b[0mtype\u001b[0m \u001b[0mpreserver_line\u001b[0m\u001b[0;34m:\u001b[0m \u001b[0mbool\u001b[0m\u001b[0;34m\u001b[0m\u001b[0m\n\u001b[1;32m    127\u001b[0m     \"\"\"\n\u001b[0;32m--> 128\u001b[0;31m     \u001b[0msentences\u001b[0m \u001b[0;34m=\u001b[0m \u001b[0;34m[\u001b[0m\u001b[0mtext\u001b[0m\u001b[0;34m]\u001b[0m \u001b[0;32mif\u001b[0m \u001b[0mpreserve_line\u001b[0m \u001b[0;32melse\u001b[0m \u001b[0msent_tokenize\u001b[0m\u001b[0;34m(\u001b[0m\u001b[0mtext\u001b[0m\u001b[0;34m,\u001b[0m \u001b[0mlanguage\u001b[0m\u001b[0;34m)\u001b[0m\u001b[0;34m\u001b[0m\u001b[0m\n\u001b[0m\u001b[1;32m    129\u001b[0m     return [token for sent in sentences\n\u001b[1;32m    130\u001b[0m             for token in _treebank_word_tokenizer.tokenize(sent)]\n",
      "\u001b[0;32m/Library/Frameworks/Python.framework/Versions/3.6/lib/python3.6/site-packages/nltk/tokenize/__init__.py\u001b[0m in \u001b[0;36msent_tokenize\u001b[0;34m(text, language)\u001b[0m\n\u001b[1;32m     93\u001b[0m     \"\"\"\n\u001b[1;32m     94\u001b[0m     \u001b[0mtokenizer\u001b[0m \u001b[0;34m=\u001b[0m \u001b[0mload\u001b[0m\u001b[0;34m(\u001b[0m\u001b[0;34m'tokenizers/punkt/{0}.pickle'\u001b[0m\u001b[0;34m.\u001b[0m\u001b[0mformat\u001b[0m\u001b[0;34m(\u001b[0m\u001b[0mlanguage\u001b[0m\u001b[0;34m)\u001b[0m\u001b[0;34m)\u001b[0m\u001b[0;34m\u001b[0m\u001b[0m\n\u001b[0;32m---> 95\u001b[0;31m     \u001b[0;32mreturn\u001b[0m \u001b[0mtokenizer\u001b[0m\u001b[0;34m.\u001b[0m\u001b[0mtokenize\u001b[0m\u001b[0;34m(\u001b[0m\u001b[0mtext\u001b[0m\u001b[0;34m)\u001b[0m\u001b[0;34m\u001b[0m\u001b[0m\n\u001b[0m\u001b[1;32m     96\u001b[0m \u001b[0;34m\u001b[0m\u001b[0m\n\u001b[1;32m     97\u001b[0m \u001b[0;31m# Standard word tokenizer.\u001b[0m\u001b[0;34m\u001b[0m\u001b[0;34m\u001b[0m\u001b[0m\n",
      "\u001b[0;32m/Library/Frameworks/Python.framework/Versions/3.6/lib/python3.6/site-packages/nltk/tokenize/punkt.py\u001b[0m in \u001b[0;36mtokenize\u001b[0;34m(self, text, realign_boundaries)\u001b[0m\n\u001b[1;32m   1239\u001b[0m         \u001b[0mGiven\u001b[0m \u001b[0ma\u001b[0m \u001b[0mtext\u001b[0m\u001b[0;34m,\u001b[0m \u001b[0mreturns\u001b[0m \u001b[0ma\u001b[0m \u001b[0mlist\u001b[0m \u001b[0mof\u001b[0m \u001b[0mthe\u001b[0m \u001b[0msentences\u001b[0m \u001b[0;32min\u001b[0m \u001b[0mthat\u001b[0m \u001b[0mtext\u001b[0m\u001b[0;34m.\u001b[0m\u001b[0;34m\u001b[0m\u001b[0m\n\u001b[1;32m   1240\u001b[0m         \"\"\"\n\u001b[0;32m-> 1241\u001b[0;31m         \u001b[0;32mreturn\u001b[0m \u001b[0mlist\u001b[0m\u001b[0;34m(\u001b[0m\u001b[0mself\u001b[0m\u001b[0;34m.\u001b[0m\u001b[0msentences_from_text\u001b[0m\u001b[0;34m(\u001b[0m\u001b[0mtext\u001b[0m\u001b[0;34m,\u001b[0m \u001b[0mrealign_boundaries\u001b[0m\u001b[0;34m)\u001b[0m\u001b[0;34m)\u001b[0m\u001b[0;34m\u001b[0m\u001b[0m\n\u001b[0m\u001b[1;32m   1242\u001b[0m \u001b[0;34m\u001b[0m\u001b[0m\n\u001b[1;32m   1243\u001b[0m     \u001b[0;32mdef\u001b[0m \u001b[0mdebug_decisions\u001b[0m\u001b[0;34m(\u001b[0m\u001b[0mself\u001b[0m\u001b[0;34m,\u001b[0m \u001b[0mtext\u001b[0m\u001b[0;34m)\u001b[0m\u001b[0;34m:\u001b[0m\u001b[0;34m\u001b[0m\u001b[0m\n",
      "\u001b[0;32m/Library/Frameworks/Python.framework/Versions/3.6/lib/python3.6/site-packages/nltk/tokenize/punkt.py\u001b[0m in \u001b[0;36msentences_from_text\u001b[0;34m(self, text, realign_boundaries)\u001b[0m\n\u001b[1;32m   1289\u001b[0m         \u001b[0mfollows\u001b[0m \u001b[0mthe\u001b[0m \u001b[0mperiod\u001b[0m\u001b[0;34m.\u001b[0m\u001b[0;34m\u001b[0m\u001b[0m\n\u001b[1;32m   1290\u001b[0m         \"\"\"\n\u001b[0;32m-> 1291\u001b[0;31m         \u001b[0;32mreturn\u001b[0m \u001b[0;34m[\u001b[0m\u001b[0mtext\u001b[0m\u001b[0;34m[\u001b[0m\u001b[0ms\u001b[0m\u001b[0;34m:\u001b[0m\u001b[0me\u001b[0m\u001b[0;34m]\u001b[0m \u001b[0;32mfor\u001b[0m \u001b[0ms\u001b[0m\u001b[0;34m,\u001b[0m \u001b[0me\u001b[0m \u001b[0;32min\u001b[0m \u001b[0mself\u001b[0m\u001b[0;34m.\u001b[0m\u001b[0mspan_tokenize\u001b[0m\u001b[0;34m(\u001b[0m\u001b[0mtext\u001b[0m\u001b[0;34m,\u001b[0m \u001b[0mrealign_boundaries\u001b[0m\u001b[0;34m)\u001b[0m\u001b[0;34m]\u001b[0m\u001b[0;34m\u001b[0m\u001b[0m\n\u001b[0m\u001b[1;32m   1292\u001b[0m \u001b[0;34m\u001b[0m\u001b[0m\n\u001b[1;32m   1293\u001b[0m     \u001b[0;32mdef\u001b[0m \u001b[0m_slices_from_text\u001b[0m\u001b[0;34m(\u001b[0m\u001b[0mself\u001b[0m\u001b[0;34m,\u001b[0m \u001b[0mtext\u001b[0m\u001b[0;34m)\u001b[0m\u001b[0;34m:\u001b[0m\u001b[0;34m\u001b[0m\u001b[0m\n",
      "\u001b[0;32m/Library/Frameworks/Python.framework/Versions/3.6/lib/python3.6/site-packages/nltk/tokenize/punkt.py\u001b[0m in \u001b[0;36m<listcomp>\u001b[0;34m(.0)\u001b[0m\n\u001b[1;32m   1289\u001b[0m         \u001b[0mfollows\u001b[0m \u001b[0mthe\u001b[0m \u001b[0mperiod\u001b[0m\u001b[0;34m.\u001b[0m\u001b[0;34m\u001b[0m\u001b[0m\n\u001b[1;32m   1290\u001b[0m         \"\"\"\n\u001b[0;32m-> 1291\u001b[0;31m         \u001b[0;32mreturn\u001b[0m \u001b[0;34m[\u001b[0m\u001b[0mtext\u001b[0m\u001b[0;34m[\u001b[0m\u001b[0ms\u001b[0m\u001b[0;34m:\u001b[0m\u001b[0me\u001b[0m\u001b[0;34m]\u001b[0m \u001b[0;32mfor\u001b[0m \u001b[0ms\u001b[0m\u001b[0;34m,\u001b[0m \u001b[0me\u001b[0m \u001b[0;32min\u001b[0m \u001b[0mself\u001b[0m\u001b[0;34m.\u001b[0m\u001b[0mspan_tokenize\u001b[0m\u001b[0;34m(\u001b[0m\u001b[0mtext\u001b[0m\u001b[0;34m,\u001b[0m \u001b[0mrealign_boundaries\u001b[0m\u001b[0;34m)\u001b[0m\u001b[0;34m]\u001b[0m\u001b[0;34m\u001b[0m\u001b[0m\n\u001b[0m\u001b[1;32m   1292\u001b[0m \u001b[0;34m\u001b[0m\u001b[0m\n\u001b[1;32m   1293\u001b[0m     \u001b[0;32mdef\u001b[0m \u001b[0m_slices_from_text\u001b[0m\u001b[0;34m(\u001b[0m\u001b[0mself\u001b[0m\u001b[0;34m,\u001b[0m \u001b[0mtext\u001b[0m\u001b[0;34m)\u001b[0m\u001b[0;34m:\u001b[0m\u001b[0;34m\u001b[0m\u001b[0m\n",
      "\u001b[0;32m/Library/Frameworks/Python.framework/Versions/3.6/lib/python3.6/site-packages/nltk/tokenize/punkt.py\u001b[0m in \u001b[0;36mspan_tokenize\u001b[0;34m(self, text, realign_boundaries)\u001b[0m\n\u001b[1;32m   1279\u001b[0m         \u001b[0;32mif\u001b[0m \u001b[0mrealign_boundaries\u001b[0m\u001b[0;34m:\u001b[0m\u001b[0;34m\u001b[0m\u001b[0m\n\u001b[1;32m   1280\u001b[0m             \u001b[0mslices\u001b[0m \u001b[0;34m=\u001b[0m \u001b[0mself\u001b[0m\u001b[0;34m.\u001b[0m\u001b[0m_realign_boundaries\u001b[0m\u001b[0;34m(\u001b[0m\u001b[0mtext\u001b[0m\u001b[0;34m,\u001b[0m \u001b[0mslices\u001b[0m\u001b[0;34m)\u001b[0m\u001b[0;34m\u001b[0m\u001b[0m\n\u001b[0;32m-> 1281\u001b[0;31m         \u001b[0;32mfor\u001b[0m \u001b[0msl\u001b[0m \u001b[0;32min\u001b[0m \u001b[0mslices\u001b[0m\u001b[0;34m:\u001b[0m\u001b[0;34m\u001b[0m\u001b[0m\n\u001b[0m\u001b[1;32m   1282\u001b[0m             \u001b[0;32myield\u001b[0m \u001b[0;34m(\u001b[0m\u001b[0msl\u001b[0m\u001b[0;34m.\u001b[0m\u001b[0mstart\u001b[0m\u001b[0;34m,\u001b[0m \u001b[0msl\u001b[0m\u001b[0;34m.\u001b[0m\u001b[0mstop\u001b[0m\u001b[0;34m)\u001b[0m\u001b[0;34m\u001b[0m\u001b[0m\n\u001b[1;32m   1283\u001b[0m \u001b[0;34m\u001b[0m\u001b[0m\n",
      "\u001b[0;32m/Library/Frameworks/Python.framework/Versions/3.6/lib/python3.6/site-packages/nltk/tokenize/punkt.py\u001b[0m in \u001b[0;36m_realign_boundaries\u001b[0;34m(self, text, slices)\u001b[0m\n\u001b[1;32m   1320\u001b[0m         \"\"\"\n\u001b[1;32m   1321\u001b[0m         \u001b[0mrealign\u001b[0m \u001b[0;34m=\u001b[0m \u001b[0;36m0\u001b[0m\u001b[0;34m\u001b[0m\u001b[0m\n\u001b[0;32m-> 1322\u001b[0;31m         \u001b[0;32mfor\u001b[0m \u001b[0msl1\u001b[0m\u001b[0;34m,\u001b[0m \u001b[0msl2\u001b[0m \u001b[0;32min\u001b[0m \u001b[0m_pair_iter\u001b[0m\u001b[0;34m(\u001b[0m\u001b[0mslices\u001b[0m\u001b[0;34m)\u001b[0m\u001b[0;34m:\u001b[0m\u001b[0;34m\u001b[0m\u001b[0m\n\u001b[0m\u001b[1;32m   1323\u001b[0m             \u001b[0msl1\u001b[0m \u001b[0;34m=\u001b[0m \u001b[0mslice\u001b[0m\u001b[0;34m(\u001b[0m\u001b[0msl1\u001b[0m\u001b[0;34m.\u001b[0m\u001b[0mstart\u001b[0m \u001b[0;34m+\u001b[0m \u001b[0mrealign\u001b[0m\u001b[0;34m,\u001b[0m \u001b[0msl1\u001b[0m\u001b[0;34m.\u001b[0m\u001b[0mstop\u001b[0m\u001b[0;34m)\u001b[0m\u001b[0;34m\u001b[0m\u001b[0m\n\u001b[1;32m   1324\u001b[0m             \u001b[0;32mif\u001b[0m \u001b[0;32mnot\u001b[0m \u001b[0msl2\u001b[0m\u001b[0;34m:\u001b[0m\u001b[0;34m\u001b[0m\u001b[0m\n",
      "\u001b[0;32m/Library/Frameworks/Python.framework/Versions/3.6/lib/python3.6/site-packages/nltk/tokenize/punkt.py\u001b[0m in \u001b[0;36m_pair_iter\u001b[0;34m(it)\u001b[0m\n\u001b[1;32m    311\u001b[0m     \"\"\"\n\u001b[1;32m    312\u001b[0m     \u001b[0mit\u001b[0m \u001b[0;34m=\u001b[0m \u001b[0miter\u001b[0m\u001b[0;34m(\u001b[0m\u001b[0mit\u001b[0m\u001b[0;34m)\u001b[0m\u001b[0;34m\u001b[0m\u001b[0m\n\u001b[0;32m--> 313\u001b[0;31m     \u001b[0mprev\u001b[0m \u001b[0;34m=\u001b[0m \u001b[0mnext\u001b[0m\u001b[0;34m(\u001b[0m\u001b[0mit\u001b[0m\u001b[0;34m)\u001b[0m\u001b[0;34m\u001b[0m\u001b[0m\n\u001b[0m\u001b[1;32m    314\u001b[0m     \u001b[0;32mfor\u001b[0m \u001b[0mel\u001b[0m \u001b[0;32min\u001b[0m \u001b[0mit\u001b[0m\u001b[0;34m:\u001b[0m\u001b[0;34m\u001b[0m\u001b[0m\n\u001b[1;32m    315\u001b[0m         \u001b[0;32myield\u001b[0m \u001b[0;34m(\u001b[0m\u001b[0mprev\u001b[0m\u001b[0;34m,\u001b[0m \u001b[0mel\u001b[0m\u001b[0;34m)\u001b[0m\u001b[0;34m\u001b[0m\u001b[0m\n",
      "\u001b[0;32m/Library/Frameworks/Python.framework/Versions/3.6/lib/python3.6/site-packages/nltk/tokenize/punkt.py\u001b[0m in \u001b[0;36m_slices_from_text\u001b[0;34m(self, text)\u001b[0m\n\u001b[1;32m   1293\u001b[0m     \u001b[0;32mdef\u001b[0m \u001b[0m_slices_from_text\u001b[0m\u001b[0;34m(\u001b[0m\u001b[0mself\u001b[0m\u001b[0;34m,\u001b[0m \u001b[0mtext\u001b[0m\u001b[0;34m)\u001b[0m\u001b[0;34m:\u001b[0m\u001b[0;34m\u001b[0m\u001b[0m\n\u001b[1;32m   1294\u001b[0m         \u001b[0mlast_break\u001b[0m \u001b[0;34m=\u001b[0m \u001b[0;36m0\u001b[0m\u001b[0;34m\u001b[0m\u001b[0m\n\u001b[0;32m-> 1295\u001b[0;31m         \u001b[0;32mfor\u001b[0m \u001b[0mmatch\u001b[0m \u001b[0;32min\u001b[0m \u001b[0mself\u001b[0m\u001b[0;34m.\u001b[0m\u001b[0m_lang_vars\u001b[0m\u001b[0;34m.\u001b[0m\u001b[0mperiod_context_re\u001b[0m\u001b[0;34m(\u001b[0m\u001b[0;34m)\u001b[0m\u001b[0;34m.\u001b[0m\u001b[0mfinditer\u001b[0m\u001b[0;34m(\u001b[0m\u001b[0mtext\u001b[0m\u001b[0;34m)\u001b[0m\u001b[0;34m:\u001b[0m\u001b[0;34m\u001b[0m\u001b[0m\n\u001b[0m\u001b[1;32m   1296\u001b[0m             \u001b[0mcontext\u001b[0m \u001b[0;34m=\u001b[0m \u001b[0mmatch\u001b[0m\u001b[0;34m.\u001b[0m\u001b[0mgroup\u001b[0m\u001b[0;34m(\u001b[0m\u001b[0;34m)\u001b[0m \u001b[0;34m+\u001b[0m \u001b[0mmatch\u001b[0m\u001b[0;34m.\u001b[0m\u001b[0mgroup\u001b[0m\u001b[0;34m(\u001b[0m\u001b[0;34m'after_tok'\u001b[0m\u001b[0;34m)\u001b[0m\u001b[0;34m\u001b[0m\u001b[0m\n\u001b[1;32m   1297\u001b[0m             \u001b[0;32mif\u001b[0m \u001b[0mself\u001b[0m\u001b[0;34m.\u001b[0m\u001b[0mtext_contains_sentbreak\u001b[0m\u001b[0;34m(\u001b[0m\u001b[0mcontext\u001b[0m\u001b[0;34m)\u001b[0m\u001b[0;34m:\u001b[0m\u001b[0;34m\u001b[0m\u001b[0m\n",
      "\u001b[0;31mTypeError\u001b[0m: expected string or bytes-like object"
     ]
    }
   ],
   "source": [
    "for i in map(word_tokenize, small_df['VIOLATION DESCRIPTION']):\n",
    "    print(i)"
   ]
  },
  {
   "cell_type": "code",
   "execution_count": 15,
   "metadata": {},
   "outputs": [
    {
     "data": {
      "text/plain": [
       "['Cold',\n",
       " 'food',\n",
       " 'item',\n",
       " 'held',\n",
       " 'above',\n",
       " '41√Ç¬∫',\n",
       " 'F',\n",
       " '(',\n",
       " 'smoked',\n",
       " 'fish',\n",
       " 'and',\n",
       " 'reduced',\n",
       " 'oxygen',\n",
       " 'packaged',\n",
       " 'foods',\n",
       " 'above',\n",
       " '38',\n",
       " '√Ç¬∫F',\n",
       " ')',\n",
       " 'except',\n",
       " 'during',\n",
       " 'necessary',\n",
       " 'preparation',\n",
       " '.']"
      ]
     },
     "execution_count": 15,
     "metadata": {},
     "output_type": "execute_result"
    }
   ],
   "source": [
    "a_sent = 'Cold food item held above 41√Ç¬∫ F (smoked fish and reduced oxygen packaged foods above 38 √Ç¬∫F) except during necessary preparation.'\n",
    "word_tokenize(a_sent)"
   ]
  },
  {
   "cell_type": "code",
   "execution_count": 20,
   "metadata": {},
   "outputs": [
    {
     "data": {
      "text/plain": [
       "['i',\n",
       " 'me',\n",
       " 'my',\n",
       " 'myself',\n",
       " 'we',\n",
       " 'our',\n",
       " 'ours',\n",
       " 'ourselves',\n",
       " 'you',\n",
       " \"you're\",\n",
       " \"you've\",\n",
       " \"you'll\",\n",
       " \"you'd\",\n",
       " 'your',\n",
       " 'yours',\n",
       " 'yourself',\n",
       " 'yourselves',\n",
       " 'he',\n",
       " 'him',\n",
       " 'his',\n",
       " 'himself',\n",
       " 'she',\n",
       " \"she's\",\n",
       " 'her',\n",
       " 'hers',\n",
       " 'herself',\n",
       " 'it',\n",
       " \"it's\",\n",
       " 'its',\n",
       " 'itself',\n",
       " 'they',\n",
       " 'them',\n",
       " 'their',\n",
       " 'theirs',\n",
       " 'themselves',\n",
       " 'what',\n",
       " 'which',\n",
       " 'who',\n",
       " 'whom',\n",
       " 'this',\n",
       " 'that',\n",
       " \"that'll\",\n",
       " 'these',\n",
       " 'those',\n",
       " 'am',\n",
       " 'is',\n",
       " 'are',\n",
       " 'was',\n",
       " 'were',\n",
       " 'be',\n",
       " 'been',\n",
       " 'being',\n",
       " 'have',\n",
       " 'has',\n",
       " 'had',\n",
       " 'having',\n",
       " 'do',\n",
       " 'does',\n",
       " 'did',\n",
       " 'doing',\n",
       " 'a',\n",
       " 'an',\n",
       " 'the',\n",
       " 'and',\n",
       " 'but',\n",
       " 'if',\n",
       " 'or',\n",
       " 'because',\n",
       " 'as',\n",
       " 'until',\n",
       " 'while',\n",
       " 'of',\n",
       " 'at',\n",
       " 'by',\n",
       " 'for',\n",
       " 'with',\n",
       " 'about',\n",
       " 'against',\n",
       " 'between',\n",
       " 'into',\n",
       " 'through',\n",
       " 'during',\n",
       " 'before',\n",
       " 'after',\n",
       " 'above',\n",
       " 'below',\n",
       " 'to',\n",
       " 'from',\n",
       " 'up',\n",
       " 'down',\n",
       " 'in',\n",
       " 'out',\n",
       " 'on',\n",
       " 'off',\n",
       " 'over',\n",
       " 'under',\n",
       " 'again',\n",
       " 'further',\n",
       " 'then',\n",
       " 'once',\n",
       " 'here',\n",
       " 'there',\n",
       " 'when',\n",
       " 'where',\n",
       " 'why',\n",
       " 'how',\n",
       " 'all',\n",
       " 'any',\n",
       " 'both',\n",
       " 'each',\n",
       " 'few',\n",
       " 'more',\n",
       " 'most',\n",
       " 'other',\n",
       " 'some',\n",
       " 'such',\n",
       " 'no',\n",
       " 'nor',\n",
       " 'not',\n",
       " 'only',\n",
       " 'own',\n",
       " 'same',\n",
       " 'so',\n",
       " 'than',\n",
       " 'too',\n",
       " 'very',\n",
       " 's',\n",
       " 't',\n",
       " 'can',\n",
       " 'will',\n",
       " 'just',\n",
       " 'don',\n",
       " \"don't\",\n",
       " 'should',\n",
       " \"should've\",\n",
       " 'now',\n",
       " 'd',\n",
       " 'll',\n",
       " 'm',\n",
       " 'o',\n",
       " 're',\n",
       " 've',\n",
       " 'y',\n",
       " 'ain',\n",
       " 'aren',\n",
       " \"aren't\",\n",
       " 'couldn',\n",
       " \"couldn't\",\n",
       " 'didn',\n",
       " \"didn't\",\n",
       " 'doesn',\n",
       " \"doesn't\",\n",
       " 'hadn',\n",
       " \"hadn't\",\n",
       " 'hasn',\n",
       " \"hasn't\",\n",
       " 'haven',\n",
       " \"haven't\",\n",
       " 'isn',\n",
       " \"isn't\",\n",
       " 'ma',\n",
       " 'mightn',\n",
       " \"mightn't\",\n",
       " 'mustn',\n",
       " \"mustn't\",\n",
       " 'needn',\n",
       " \"needn't\",\n",
       " 'shan',\n",
       " \"shan't\",\n",
       " 'shouldn',\n",
       " \"shouldn't\",\n",
       " 'wasn',\n",
       " \"wasn't\",\n",
       " 'weren',\n",
       " \"weren't\",\n",
       " 'won',\n",
       " \"won't\",\n",
       " 'wouldn',\n",
       " \"wouldn't\"]"
      ]
     },
     "execution_count": 20,
     "metadata": {},
     "output_type": "execute_result"
    }
   ],
   "source": [
    "stopwords.words('english')"
   ]
  }
 ],
 "metadata": {
  "kernelspec": {
   "display_name": "Python 3",
   "language": "python",
   "name": "python3"
  },
  "language_info": {
   "codemirror_mode": {
    "name": "ipython",
    "version": 3
   },
   "file_extension": ".py",
   "mimetype": "text/x-python",
   "name": "python",
   "nbconvert_exporter": "python",
   "pygments_lexer": "ipython3",
   "version": "3.6.1"
  }
 },
 "nbformat": 4,
 "nbformat_minor": 2
}
